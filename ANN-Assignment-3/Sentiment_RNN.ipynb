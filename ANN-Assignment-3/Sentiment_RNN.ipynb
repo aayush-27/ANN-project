{
  "nbformat": 4,
  "nbformat_minor": 0,
  "metadata": {
    "kernelspec": {
      "display_name": "Python 3",
      "language": "python",
      "name": "python3"
    },
    "language_info": {
      "codemirror_mode": {
        "name": "ipython",
        "version": 3
      },
      "file_extension": ".py",
      "mimetype": "text/x-python",
      "name": "python",
      "nbconvert_exporter": "python",
      "pygments_lexer": "ipython3",
      "version": "3.6.0"
    },
    "colab": {
      "name": "Sentiment_RNN.ipynb",
      "provenance": [],
      "collapsed_sections": [],
      "toc_visible": true
    },
    "accelerator": "GPU"
  },
  "cells": [
    {
      "cell_type": "markdown",
      "metadata": {
        "id": "7-fML087TUdf",
        "colab_type": "text"
      },
      "source": [
        "# Sentiment Analysis with an RNN\n",
        "\n",
        "In this notebook, you'll implement a recurrent neural network that performs sentiment analysis. Using an RNN rather than a feedfoward network is more accurate since we can include information about the *sequence* of words. Here we'll use a dataset of movie reviews, accompanied by labels.\n",
        "\n",
        "The architecture for this network is shown below.\n",
        "\n",
        "<img src=\"https://github.com/udacity/deep-learning/blob/master/sentiment-rnn/assets/network_diagram.png?raw=1\" width=400px>\n",
        "\n",
        "Here, we'll pass in words to an embedding layer. We need an embedding layer because we have tens of thousands of words, so we'll need a more efficient representation for our input data than one-hot encoded vectors. You should have seen this before from the word2vec lesson. You can actually train up an embedding with word2vec and use it here. But it's good enough to just have an embedding layer and let the network learn the embedding table on it's own.\n",
        "\n",
        "From the embedding layer, the new representations will be passed to LSTM cells. These will add recurrent connections to the network so we can include information about the sequence of words in the data. Finally, the LSTM cells will go to a sigmoid output layer here. We're using the sigmoid because we're trying to predict if this text has positive or negative sentiment. The output layer will just be a single unit then, with a sigmoid activation function.\n",
        "\n",
        "We don't care about the sigmoid outputs except for the very last one, we can ignore the rest. We'll calculate the cost from the output of the last step and the training label."
      ]
    },
    {
      "cell_type": "code",
      "metadata": {
        "id": "RaZ-2lB3TUdi",
        "colab_type": "code",
        "colab": {
          "base_uri": "https://localhost:8080/",
          "height": 34
        },
        "outputId": "a61065aa-7d23-4fd5-b5cd-e91d1a950240"
      },
      "source": [
        "%tensorflow_version 1.x\n",
        "import numpy as np\n",
        "import tensorflow as tf"
      ],
      "execution_count": null,
      "outputs": [
        {
          "output_type": "stream",
          "text": [
            "TensorFlow 1.x selected.\n"
          ],
          "name": "stdout"
        }
      ]
    },
    {
      "cell_type": "code",
      "metadata": {
        "id": "DeaIn48BTUdz",
        "colab_type": "code",
        "colab": {}
      },
      "source": [
        "with open('/content/reviews.txt', 'r') as f:\n",
        "    reviews = f.read()\n",
        "with open('/content/labels.txt', 'r') as f:\n",
        "    labels = f.read()"
      ],
      "execution_count": null,
      "outputs": []
    },
    {
      "cell_type": "code",
      "metadata": {
        "id": "qeYCaLyVTUeB",
        "colab_type": "code",
        "colab": {
          "base_uri": "https://localhost:8080/",
          "height": 137
        },
        "outputId": "54150bf3-f3fe-42eb-b4ae-747dceaa322b"
      },
      "source": [
        "reviews[:2000]"
      ],
      "execution_count": null,
      "outputs": [
        {
          "output_type": "execute_result",
          "data": {
            "application/vnd.google.colaboratory.intrinsic": {
              "type": "string"
            },
            "text/plain": [
              "'bromwell high is a cartoon comedy . it ran at the same time as some other programs about school life  such as  teachers  . my   years in the teaching profession lead me to believe that bromwell high  s satire is much closer to reality than is  teachers  . the scramble to survive financially  the insightful students who can see right through their pathetic teachers  pomp  the pettiness of the whole situation  all remind me of the schools i knew and their students . when i saw the episode in which a student repeatedly tried to burn down the school  i immediately recalled . . . . . . . . . at . . . . . . . . . . high . a classic line inspector i  m here to sack one of your teachers . student welcome to bromwell high . i expect that many adults of my age think that bromwell high is far fetched . what a pity that it isn  t   \\nstory of a man who has unnatural feelings for a pig . starts out with a opening scene that is a terrific example of absurd comedy . a formal orchestra audience is turned into an insane  violent mob by the crazy chantings of it  s singers . unfortunately it stays absurd the whole time with no general narrative eventually making it just too off putting . even those from the era should be turned off . the cryptic dialogue would make shakespeare seem easy to a third grader . on a technical level it  s better than you might think with some good cinematography by future great vilmos zsigmond . future stars sally kirkland and frederic forrest can be seen briefly .  \\nhomelessness  or houselessness as george carlin stated  has been an issue for years but never a plan to help those on the street that were once considered human who did everything from going to school  work  or vote for the matter . most people think of the homeless as just a lost cause while worrying about things such as racism  the war on iraq  pressuring kids to succeed  technology  the elections  inflation  or worrying if they  ll be next to end up on the streets .  br    br   but what if y'"
            ]
          },
          "metadata": {
            "tags": []
          },
          "execution_count": 3
        }
      ]
    },
    {
      "cell_type": "markdown",
      "metadata": {
        "id": "2mPxcmFUTUeQ",
        "colab_type": "text"
      },
      "source": [
        "## Data preprocessing\n",
        "\n",
        "The first step when building a neural network model is getting your data into the proper form to feed into the network. Since we're using embedding layers, we'll need to encode each word with an integer. We'll also want to clean it up a bit.\n",
        "\n",
        "You can see an example of the reviews data above. We'll want to get rid of those periods. Also, you might notice that the reviews are delimited with newlines `\\n`. To deal with those, I'm going to split the text into each review using `\\n` as the delimiter. Then I can combined all the reviews back together into one big string.\n",
        "\n",
        "First, let's remove all punctuation. Then get all the text without the newlines and split it into individual words."
      ]
    },
    {
      "cell_type": "code",
      "metadata": {
        "id": "2v2b3XBwTUeR",
        "colab_type": "code",
        "colab": {}
      },
      "source": [
        "from string import punctuation\n",
        "all_text = ''.join([c for c in reviews if c not in punctuation])\n",
        "reviews = all_text.split('\\n')\n",
        "\n",
        "all_text = ' '.join(reviews)\n",
        "words = all_text.split()"
      ],
      "execution_count": null,
      "outputs": []
    },
    {
      "cell_type": "code",
      "metadata": {
        "id": "aAeyV-a6TUec",
        "colab_type": "code",
        "colab": {
          "base_uri": "https://localhost:8080/",
          "height": 137
        },
        "outputId": "ba48573d-45ee-4a6e-f1d8-c528b0532c23"
      },
      "source": [
        "all_text[:2000]"
      ],
      "execution_count": null,
      "outputs": [
        {
          "output_type": "execute_result",
          "data": {
            "application/vnd.google.colaboratory.intrinsic": {
              "type": "string"
            },
            "text/plain": [
              "'bromwell high is a cartoon comedy  it ran at the same time as some other programs about school life  such as  teachers   my   years in the teaching profession lead me to believe that bromwell high  s satire is much closer to reality than is  teachers   the scramble to survive financially  the insightful students who can see right through their pathetic teachers  pomp  the pettiness of the whole situation  all remind me of the schools i knew and their students  when i saw the episode in which a student repeatedly tried to burn down the school  i immediately recalled          at           high  a classic line inspector i  m here to sack one of your teachers  student welcome to bromwell high  i expect that many adults of my age think that bromwell high is far fetched  what a pity that it isn  t    story of a man who has unnatural feelings for a pig  starts out with a opening scene that is a terrific example of absurd comedy  a formal orchestra audience is turned into an insane  violent mob by the crazy chantings of it  s singers  unfortunately it stays absurd the whole time with no general narrative eventually making it just too off putting  even those from the era should be turned off  the cryptic dialogue would make shakespeare seem easy to a third grader  on a technical level it  s better than you might think with some good cinematography by future great vilmos zsigmond  future stars sally kirkland and frederic forrest can be seen briefly    homelessness  or houselessness as george carlin stated  has been an issue for years but never a plan to help those on the street that were once considered human who did everything from going to school  work  or vote for the matter  most people think of the homeless as just a lost cause while worrying about things such as racism  the war on iraq  pressuring kids to succeed  technology  the elections  inflation  or worrying if they  ll be next to end up on the streets   br    br   but what if you were given a bet to live on the st'"
            ]
          },
          "metadata": {
            "tags": []
          },
          "execution_count": 5
        }
      ]
    },
    {
      "cell_type": "code",
      "metadata": {
        "id": "HRgHXPQVTUeu",
        "colab_type": "code",
        "colab": {
          "base_uri": "https://localhost:8080/",
          "height": 1000
        },
        "outputId": "19537aa5-0b2c-4273-b083-5801ff9051dc"
      },
      "source": [
        "words[:100]"
      ],
      "execution_count": null,
      "outputs": [
        {
          "output_type": "execute_result",
          "data": {
            "text/plain": [
              "['bromwell',\n",
              " 'high',\n",
              " 'is',\n",
              " 'a',\n",
              " 'cartoon',\n",
              " 'comedy',\n",
              " 'it',\n",
              " 'ran',\n",
              " 'at',\n",
              " 'the',\n",
              " 'same',\n",
              " 'time',\n",
              " 'as',\n",
              " 'some',\n",
              " 'other',\n",
              " 'programs',\n",
              " 'about',\n",
              " 'school',\n",
              " 'life',\n",
              " 'such',\n",
              " 'as',\n",
              " 'teachers',\n",
              " 'my',\n",
              " 'years',\n",
              " 'in',\n",
              " 'the',\n",
              " 'teaching',\n",
              " 'profession',\n",
              " 'lead',\n",
              " 'me',\n",
              " 'to',\n",
              " 'believe',\n",
              " 'that',\n",
              " 'bromwell',\n",
              " 'high',\n",
              " 's',\n",
              " 'satire',\n",
              " 'is',\n",
              " 'much',\n",
              " 'closer',\n",
              " 'to',\n",
              " 'reality',\n",
              " 'than',\n",
              " 'is',\n",
              " 'teachers',\n",
              " 'the',\n",
              " 'scramble',\n",
              " 'to',\n",
              " 'survive',\n",
              " 'financially',\n",
              " 'the',\n",
              " 'insightful',\n",
              " 'students',\n",
              " 'who',\n",
              " 'can',\n",
              " 'see',\n",
              " 'right',\n",
              " 'through',\n",
              " 'their',\n",
              " 'pathetic',\n",
              " 'teachers',\n",
              " 'pomp',\n",
              " 'the',\n",
              " 'pettiness',\n",
              " 'of',\n",
              " 'the',\n",
              " 'whole',\n",
              " 'situation',\n",
              " 'all',\n",
              " 'remind',\n",
              " 'me',\n",
              " 'of',\n",
              " 'the',\n",
              " 'schools',\n",
              " 'i',\n",
              " 'knew',\n",
              " 'and',\n",
              " 'their',\n",
              " 'students',\n",
              " 'when',\n",
              " 'i',\n",
              " 'saw',\n",
              " 'the',\n",
              " 'episode',\n",
              " 'in',\n",
              " 'which',\n",
              " 'a',\n",
              " 'student',\n",
              " 'repeatedly',\n",
              " 'tried',\n",
              " 'to',\n",
              " 'burn',\n",
              " 'down',\n",
              " 'the',\n",
              " 'school',\n",
              " 'i',\n",
              " 'immediately',\n",
              " 'recalled',\n",
              " 'at',\n",
              " 'high']"
            ]
          },
          "metadata": {
            "tags": []
          },
          "execution_count": 6
        }
      ]
    },
    {
      "cell_type": "markdown",
      "metadata": {
        "id": "6UPDaJmFTUe4",
        "colab_type": "text"
      },
      "source": [
        "### Encoding the words\n",
        "\n",
        "The embedding lookup requires that we pass in integers to our network. The easiest way to do this is to create dictionaries that map the words in the vocabulary to integers. Then we can convert each of our reviews into integers so they can be passed into the network.\n",
        "\n",
        "> **Exercise:** Now you're going to encode the words with integers. Build a dictionary that maps words to integers. Later we're going to pad our input vectors with zeros, so make sure the integers **start at 1, not 0**.\n",
        "> Also, convert the reviews to integers and store the reviews in a new list called `reviews_ints`. "
      ]
    },
    {
      "cell_type": "code",
      "metadata": {
        "id": "_qeUZaanTUe8",
        "colab_type": "code",
        "colab": {}
      },
      "source": [
        "i=1\n",
        "vocab_to_int = {}\n",
        "for word in set(words):\n",
        "  vocab_to_int[word]=i\n",
        "  i=i+1\n",
        "\n",
        "reviews_ints=[]\n",
        "for x in reviews:\n",
        "  temp = []\n",
        "  for y in x.split():\n",
        "    temp.append(vocab_to_int[y])\n",
        "  reviews_ints.append(temp)"
      ],
      "execution_count": null,
      "outputs": []
    },
    {
      "cell_type": "markdown",
      "metadata": {
        "id": "eHa28JVHTUfI",
        "colab_type": "text"
      },
      "source": [
        "### Encoding the labels\n",
        "\n",
        "Our labels are \"positive\" or \"negative\". To use these labels in our network, we need to convert them to 0 and 1.\n",
        "\n",
        "> **Exercise:** Convert labels from `positive` and `negative` to 1 and 0, respectively."
      ]
    },
    {
      "cell_type": "code",
      "metadata": {
        "id": "0PwVTgJpTUfK",
        "colab_type": "code",
        "colab": {}
      },
      "source": [
        "labels = labels.split('\\n')\n",
        "temp = []\n",
        "for i in range(len(labels)):\n",
        "  if labels[i]=='positive':\n",
        "    temp.append(1)\n",
        "  else :\n",
        "    temp.append(0)\n",
        "\n",
        "labels = temp"
      ],
      "execution_count": null,
      "outputs": []
    },
    {
      "cell_type": "markdown",
      "metadata": {
        "id": "3P1dHFjVTUfc",
        "colab_type": "text"
      },
      "source": [
        "Okay, a couple issues here. We seem to have one review with zero length. And, the maximum review length is way too many steps for our RNN. Let's truncate to 200 steps. For reviews shorter than 200, we'll pad with 0s. For reviews longer than 200, we can truncate them to the first 200 characters.\n",
        "\n",
        "> **Exercise:** First, remove the review with zero length from the `reviews_ints` list."
      ]
    },
    {
      "cell_type": "markdown",
      "metadata": {
        "id": "jXobZvdMTUfu",
        "colab_type": "text"
      },
      "source": [
        "Turns out its the final review that has zero length. But that might not always be the case, so let's make it more general."
      ]
    },
    {
      "cell_type": "code",
      "metadata": {
        "id": "I2VIODaQtFro",
        "colab_type": "code",
        "colab": {}
      },
      "source": [
        "keep = []\n",
        "for i in range(len(reviews_ints)):\n",
        "  if len(reviews_ints[i])!=0:\n",
        "    keep.append(i)\n",
        "    \n",
        "reviews_ints = [reviews_ints[j] for j in keep]\n",
        "labels = np.array([labels[j] for j in keep])"
      ],
      "execution_count": null,
      "outputs": []
    },
    {
      "cell_type": "markdown",
      "metadata": {
        "id": "VJIP8cKvTUfz",
        "colab_type": "text"
      },
      "source": [
        "> **Exercise:** Now, create an array `features` that contains the data we'll pass to the network. The data should come from `review_ints`, since we want to feed integers to the network. Each row should be 200 elements long. For reviews shorter than 200 words, left pad with 0s. That is, if the review is `['best', 'movie', 'ever']`, `[117, 18, 128]` as integers, the row will look like `[0, 0, 0, ..., 0, 117, 18, 128]`. For reviews longer than 200, use on the first 200 words as the feature vector.\n",
        "\n",
        "This isn't trivial and there are a bunch of ways to do this. But, if you're going to be building your own deep learning networks, you're going to have to get used to preparing your data.\n",
        "\n"
      ]
    },
    {
      "cell_type": "code",
      "metadata": {
        "id": "gW4Frf0XTUf0",
        "colab_type": "code",
        "colab": {}
      },
      "source": [
        "seq_len = 200\n",
        "features = np.zeros((len(reviews_ints),seq_len),dtype=int)\n",
        "j=0\n",
        "for rev in reviews_ints:\n",
        "  if len(rev)>=seq_len:\n",
        "    features[j] = rev[0:seq_len]\n",
        "    j+=1\n",
        "  else :\n",
        "    features[j,seq_len-len(rev):seq_len] = rev\n",
        "    j+=1"
      ],
      "execution_count": null,
      "outputs": []
    },
    {
      "cell_type": "code",
      "metadata": {
        "id": "6lY4CYm3TUf4",
        "colab_type": "code",
        "colab": {
          "base_uri": "https://localhost:8080/",
          "height": 1000
        },
        "outputId": "19aca0b2-45d4-495b-c691-03a4a6d0f41a"
      },
      "source": [
        "features[:10,:100]"
      ],
      "execution_count": null,
      "outputs": [
        {
          "output_type": "execute_result",
          "data": {
            "text/plain": [
              "array([[    0,     0,     0,     0,     0,     0,     0,     0,     0,\n",
              "            0,     0,     0,     0,     0,     0,     0,     0,     0,\n",
              "            0,     0,     0,     0,     0,     0,     0,     0,     0,\n",
              "            0,     0,     0,     0,     0,     0,     0,     0,     0,\n",
              "            0,     0,     0,     0,     0,     0,     0,     0,     0,\n",
              "            0,     0,     0,     0,     0,     0,     0,     0,     0,\n",
              "            0,     0,     0,     0,     0,     0, 36042, 73747, 27736,\n",
              "        72966, 10871, 35673, 58130, 24685, 19592, 23726,   684, 47159,\n",
              "        24359, 18548,   248, 10355, 59424, 30611, 55049, 16475, 24359,\n",
              "        71616, 73308, 14622, 68427, 23726, 49423, 56083, 46633, 40295,\n",
              "        12519, 25090, 45953, 36042, 73747, 55287, 11352, 27736, 14011,\n",
              "        15454],\n",
              "       [    0,     0,     0,     0,     0,     0,     0,     0,     0,\n",
              "            0,     0,     0,     0,     0,     0,     0,     0,     0,\n",
              "            0,     0,     0,     0,     0,     0,     0,     0,     0,\n",
              "            0,     0,     0,     0,     0,     0,     0,     0,     0,\n",
              "            0,     0,     0,     0,     0,     0,     0,     0,     0,\n",
              "            0,     0,     0,     0,     0,     0,     0,     0,     0,\n",
              "            0,     0,     0,     0,     0,     0,     0,     0,     0,\n",
              "            0,     0,     0,     0,     0,     0,     0,     0,     0,\n",
              "            0,     0,     0,     0,     0,     0,     0,     0,     0,\n",
              "            0,     0,     0,     0,     0, 35995, 27063, 72966, 43722,\n",
              "        43088, 59861, 22310, 21048,  4650, 72966, 70252, 13357, 24792,\n",
              "        64197],\n",
              "       [45114, 34297, 37838, 24359, 47517, 58484, 51476, 59861, 55940,\n",
              "         5433, 69930,  4650, 14622,  4238,  6725, 72966, 11792, 12519,\n",
              "        41796, 39196, 46423, 23726, 68458, 45953,  4886, 31439, 28864,\n",
              "        14121, 43088, 29600, 68594, 53911, 34542, 12519, 30611, 51727,\n",
              "        34297, 51086,  4650, 23726, 61770, 48599,   618, 43548, 27063,\n",
              "        23726, 21255, 24359, 13387, 72966, 32287,  5124, 37579, 17597,\n",
              "        59424, 13581, 16475, 24359, 21457, 23726, 10962, 46423,  6674,\n",
              "        17132, 57992, 12519,  4169, 32194, 23726, 59825,  3724, 34297,\n",
              "        17597, 72835, 37389, 22861, 18848, 48496, 12519, 70265,  1321,\n",
              "        46423, 23726, 48888, 65393, 65393,  4238, 29923, 72835, 46787,\n",
              "         4886, 68179, 72966, 72300, 12519, 73936, 46423, 23726, 48888,\n",
              "         4650],\n",
              "       [38276, 13357, 24359, 72966, 20279, 29503, 48767, 66859, 27736,\n",
              "        10839,  1321, 64197, 59638, 56156, 16475, 10687, 12519, 47558,\n",
              "        20937, 18919, 42551, 38517, 24869, 43088, 27736, 30514, 40987,\n",
              "        72966, 24638, 27063, 57225, 55287, 12519,  9422, 60676, 68427,\n",
              "        38729, 27063, 58130, 36906, 62204, 12519, 23726, 30135, 24359,\n",
              "        72966,  4228, 12168, 46423, 41651, 27736, 42551, 65939, 24606,\n",
              "        66401, 66098, 19975,  6614, 23726, 48767, 66696, 54263, 41048,\n",
              "        24359, 53376,  4238, 20248, 65481, 23726, 66859, 27736, 47383,\n",
              "        19864, 52781, 23726, 54314, 41151,  3368, 55565, 43596,  9422,\n",
              "        56006, 19376, 55287,  7305, 63589, 25640, 26813, 63951,  5581,\n",
              "        43088, 24631, 23726,   959, 66531, 24792, 64197, 10547, 15932,\n",
              "        37389],\n",
              "       [    0,     0,     0,     0,     0,     0,     0,     0,     0,\n",
              "            0,     0,     0,     0,     0,     0,     0,     0,     0,\n",
              "            0,     0,     0,     0,     0,     0,     0,     0,     0,\n",
              "            0,     0,     0,     0,     0,     0,     0,     0,     0,\n",
              "            0,     0,     0,     0,     0,     0,     0,     0,     0,\n",
              "            0,     0,     0,     0,     0, 32797, 39341, 28939, 52781,\n",
              "         1960, 64134,  7448, 22918, 47636, 31981, 26157, 63210, 32938,\n",
              "         6639, 29272,  6720, 38512, 61636, 68427, 60318, 14939, 20303,\n",
              "         5976, 12519, 18648, 23726, 30925, 46423, 20608, 27736, 72966,\n",
              "        65176, 24359, 41809, 24359, 60927, 68427, 51316, 72497, 23726,\n",
              "        12670, 46423, 69332, 27736, 12168,  7395,  3934, 36906,  6526,\n",
              "        27063],\n",
              "       [    0,     0,     0,     0,     0,     0,     0,     0,     0,\n",
              "            0,     0,     0,     0,     0,     0,     0,     0,     0,\n",
              "            0,     0,     0,     0,     0,     0,     0,     0,     0,\n",
              "            0,     0,     0,     0,     0,     0,     0,     0,     0,\n",
              "            0,     0,     0,     0,     0,     0,     0,     0,     0,\n",
              "            0,     0,     0,     0,     0,     0,     0,     0,     0,\n",
              "        28840, 63142, 44524, 66462, 63210, 12926, 73573, 73742, 73308,\n",
              "        17281, 46423, 19592, 34227, 70988, 46423, 23726, 65202, 27063,\n",
              "        23726, 41930, 46771, 28840, 44860, 54254, 12519,  4656, 27063,\n",
              "        47814, 10110, 72409, 15553, 23726, 72132, 64197, 19975, 41930,\n",
              "        43722, 66793, 23726, 71123, 61636, 20599, 57309, 24359, 36906,\n",
              "        12695],\n",
              "       [    0,     0,     0,     0,     0,     0,     0,     0,     0,\n",
              "            0,     0,     0,     0,     0,     0,     0,     0,     0,\n",
              "            0,     0,     0,     0,     0,     0,     0,     0,     0,\n",
              "            0,     0,     0,     0,     0,     0,     0,     0,     0,\n",
              "            0,     0,     0,     0,     0,     0,     0,     0,     0,\n",
              "            0,     0,     0,     0,     0,     0,     0,     0,     0,\n",
              "            0,     0,     0,     0,     0,     0,     0,     0,     0,\n",
              "            0,     0,     0,     0,     0,     0,     0,     0,     0,\n",
              "            0,     0,     0,     0, 28840, 27736, 19458, 23726, 48599,\n",
              "        43067, 63142, 14923, 23726, 34218, 57898, 23794, 19966, 53609,\n",
              "        58130,  8196, 36587, 19489, 72966, 68919, 44872, 27063, 45114,\n",
              "        33785],\n",
              "       [    0,     0,     0,     0,     0,     0,     0,     0,     0,\n",
              "            0,     0,     0,     0,     0,     0,     0,     0,     0,\n",
              "            0,     0,     0,     0,     0,     0,     0,     0,     0,\n",
              "            0,     0,     0,     0,     0,     0,     0,     0,     0,\n",
              "            0,     0,     0,     0,     0,     0,     0,     0,     0,\n",
              "            0,     0, 37528, 72685, 63210, 14526, 28840, 27736, 43510,\n",
              "        12519, 18848,  5433, 31654, 63142,  4238,  1651, 37389, 41841,\n",
              "        32938, 55337, 24792, 42823, 19592, 23726,  9322, 68176,   618,\n",
              "        59268, 22718, 30626, 62138, 24792,  6720, 36587, 43246, 68800,\n",
              "        23726, 66967, 42901,  6720, 49435,  2062, 35058,  1678, 28840,\n",
              "        35995, 27736,  2906, 32489, 12519, 43246, 23726, 25077, 27063,\n",
              "        72966],\n",
              "       [    0,     0,     0,     0,     0,     0,     0,     0,     0,\n",
              "            0,     0,     0,     0,     0,     0,     0,     0,     0,\n",
              "            0,     0,     0,     0,     0,     0,     0,     0,     0,\n",
              "            0,     0,     0,     0,     0,     0,     0,     0,     0,\n",
              "            0,     0,     0,     0,     0,     0,     0,     0,     0,\n",
              "            0,     0,     0,     0,     0,     0,     0,     0,     0,\n",
              "            0,     0,     0,     0,     0,     0,     0,     0,     0,\n",
              "            0,     0,     0,     0,     0,     0,     0,     0,     0,\n",
              "            0,     0,     0,     0,     0,     0,     0, 28840, 27736,\n",
              "        36587, 23726, 71292, 23977, 34218, 63142, 58130, 35058, 14011,\n",
              "        33306, 21564, 18310, 48599, 27063,  9422, 59770,  6720, 18700,\n",
              "        65594],\n",
              "       [10110, 63210, 35058, 18246, 73308, 62478, 60343, 40295, 21794,\n",
              "        12519, 23726, 32825, 12519, 45706, 16897, 58130, 35058,  6770,\n",
              "        27063, 28911, 59770, 63210, 63914, 64197, 73308, 62478,  4238,\n",
              "        28840, 35058, 23726, 63359,  6770, 33255,  7137, 24792, 27063,\n",
              "        52086, 33380, 63210, 65594,  6725, 29272, 16897, 47364, 13387,\n",
              "        13158,  6720, 63210, 59268, 32938, 25683, 24792, 23726, 37909,\n",
              "        27063, 73308, 55049, 56606, 58130, 29923, 72966, 68879, 52429,\n",
              "         6720, 50445,  3761, 65285, 27063, 55287, 47554,  6720,  6991,\n",
              "        36330,  7763, 24824, 27736,  6770, 27063, 73308, 65126, 43616,\n",
              "         4238, 16897, 27736, 52781, 52932, 23726, 19206, 65285, 27063,\n",
              "        73984, 27063,  9422, 65386, 68427, 23726, 15546,  8502, 27063,\n",
              "         7605]])"
            ]
          },
          "metadata": {
            "tags": []
          },
          "execution_count": 11
        }
      ]
    },
    {
      "cell_type": "markdown",
      "metadata": {
        "id": "6hGIBQrNTUf-",
        "colab_type": "text"
      },
      "source": [
        "## Training, Validation, Test\n",
        "\n"
      ]
    },
    {
      "cell_type": "markdown",
      "metadata": {
        "id": "zDCnRTXPTUf_",
        "colab_type": "text"
      },
      "source": [
        "With our data in nice shape, we'll split it into training, validation, and test sets.\n",
        "\n",
        "> **Exercise:** Create the training, validation, and test sets here. You'll need to create sets for the features and the labels, `train_x` and `train_y` for example. Define a split fraction, `split_frac` as the fraction of data to keep in the training set. Usually this is set to 0.8 or 0.9. The rest of the data will be split in half to create the validation and testing data."
      ]
    },
    {
      "cell_type": "code",
      "metadata": {
        "id": "fcY9eFrCTUgA",
        "colab_type": "code",
        "colab": {
          "base_uri": "https://localhost:8080/",
          "height": 84
        },
        "outputId": "5ae0e6e6-4866-457c-c2ae-5091921779c8"
      },
      "source": [
        "split_frac = 0.8\n",
        "div = int(len(features)*0.8)\n",
        "train_x, val_x = features[:div], features[div:]\n",
        "train_y, val_y = labels[:div], labels[div:]\n",
        "\n",
        "div = len(val_x)//2\n",
        "val_x, test_x = val_x[:div], val_x[div:]\n",
        "val_y, test_y = val_y[:div], val_y[div:]\n",
        "\n",
        "print(\"\\t\\t\\tFeature Shapes:\")\n",
        "print(\"Train set: \\t\\t{}\".format(train_x.shape), \n",
        "      \"\\nValidation set: \\t{}\".format(val_x.shape),\n",
        "      \"\\nTest set: \\t\\t{}\".format(test_x.shape))"
      ],
      "execution_count": null,
      "outputs": [
        {
          "output_type": "stream",
          "text": [
            "\t\t\tFeature Shapes:\n",
            "Train set: \t\t(20000, 200) \n",
            "Validation set: \t(2500, 200) \n",
            "Test set: \t\t(2500, 200)\n"
          ],
          "name": "stdout"
        }
      ]
    },
    {
      "cell_type": "markdown",
      "metadata": {
        "id": "iWiHErJkTUgG",
        "colab_type": "text"
      },
      "source": [
        "With train, validation, and text fractions of 0.8, 0.1, 0.1, the final shapes should look like:\n",
        "```\n",
        "                    Feature Shapes:\n",
        "Train set: \t\t (20000, 200) \n",
        "Validation set: \t(2500, 200) \n",
        "Test set: \t\t  (2500, 200)\n",
        "```"
      ]
    },
    {
      "cell_type": "markdown",
      "metadata": {
        "id": "WnsLuUSZTUgH",
        "colab_type": "text"
      },
      "source": [
        "## Build the graph\n",
        "\n",
        "Here, we'll build the graph. First up, defining the hyperparameters.\n",
        "\n",
        "* `lstm_size`: Number of units in the hidden layers in the LSTM cells. Usually larger is better performance wise. Common values are 128, 256, 512, etc.\n",
        "* `lstm_layers`: Number of LSTM layers in the network. I'd start with 1, then add more if I'm underfitting.\n",
        "* `batch_size`: The number of reviews to feed the network in one training pass. Typically this should be set as high as you can go without running out of memory.\n",
        "* `learning_rate`: Learning rate"
      ]
    },
    {
      "cell_type": "code",
      "metadata": {
        "id": "Jfb99XapTUgI",
        "colab_type": "code",
        "colab": {}
      },
      "source": [
        "lstm_size = 256\n",
        "lstm_layers = 1\n",
        "batch_size = 500\n",
        "learning_rate = 0.001"
      ],
      "execution_count": null,
      "outputs": []
    },
    {
      "cell_type": "markdown",
      "metadata": {
        "id": "e4UrJUd4TUgN",
        "colab_type": "text"
      },
      "source": [
        "For the network itself, we'll be passing in our 200 element long review vectors. Each batch will be `batch_size` vectors. We'll also be using dropout on the LSTM layer, so we'll make a placeholder for the keep probability."
      ]
    },
    {
      "cell_type": "markdown",
      "metadata": {
        "id": "sCYSoUSvTUgO",
        "colab_type": "text"
      },
      "source": [
        "> **Exercise:** Create the `inputs_`, `labels_`, and drop out `keep_prob` placeholders using `tf.placeholder`. `labels_` needs to be two-dimensional to work with some functions later.  Since `keep_prob` is a scalar (a 0-dimensional tensor), you shouldn't provide a size to `tf.placeholder`."
      ]
    },
    {
      "cell_type": "code",
      "metadata": {
        "id": "jWkGzmbATUgP",
        "colab_type": "code",
        "colab": {}
      },
      "source": [
        "n_words = len(vocab_to_int) + 1 # Adding 1 because we use 0's for padding, dictionary started at 1\n",
        "\n",
        "# Create the graph object\n",
        "graph = tf.Graph()\n",
        "# Add nodes to the graph\n",
        "with graph.as_default():\n",
        "    inputs_ = tf.placeholder(tf.int32, [None, None], name='inputs')\n",
        "    labels_ = tf.placeholder(tf.int32, [None, None], name='labels')\n",
        "    keep_prob = tf.placeholder(tf.float32, name='keep_prob')"
      ],
      "execution_count": null,
      "outputs": []
    },
    {
      "cell_type": "markdown",
      "metadata": {
        "id": "HaXWzVBSTUgT",
        "colab_type": "text"
      },
      "source": [
        "### Embedding\n",
        "\n",
        "Now we'll add an embedding layer. We need to do this because there are 74000 words in our vocabulary. It is massively inefficient to one-hot encode our classes here. You should remember dealing with this problem from the word2vec lesson. Instead of one-hot encoding, we can have an embedding layer and use that layer as a lookup table. You could train an embedding layer using word2vec, then load it here. But, it's fine to just make a new layer and let the network learn the weights.\n",
        "\n",
        "> **Exercise:** Create the embedding lookup matrix as a `tf.Variable`. Use that embedding matrix to get the embedded vectors to pass to the LSTM cell with [`tf.nn.embedding_lookup`](https://www.tensorflow.org/api_docs/python/tf/nn/embedding_lookup). This function takes the embedding matrix and an input tensor, such as the review vectors. Then, it'll return another tensor with the embedded vectors. So, if the embedding layer as 200 units, the function will return a tensor with size [batch_size, 200].\n",
        "\n"
      ]
    },
    {
      "cell_type": "code",
      "metadata": {
        "id": "urmtJaRTTUgU",
        "colab_type": "code",
        "colab": {}
      },
      "source": [
        "# Size of the embedding vectors (number of units in the embedding layer)\n",
        "embed_size = 300 \n",
        "\n",
        "with graph.as_default():\n",
        "    embedding = tf.Variable(tf.random_uniform((n_words, embed_size), -1, 1))\n",
        "    embed = tf.nn.embedding_lookup(embedding, inputs_)"
      ],
      "execution_count": null,
      "outputs": []
    },
    {
      "cell_type": "markdown",
      "metadata": {
        "id": "IsY1AT0UTUgY",
        "colab_type": "text"
      },
      "source": [
        "### LSTM cell\n",
        "\n",
        "<img src=\"https://github.com/udacity/deep-learning/blob/master/sentiment-rnn/assets/network_diagram.png?raw=1\" width=400px>\n",
        "\n",
        "Next, we'll create our LSTM cells to use in the recurrent network ([TensorFlow documentation](https://www.tensorflow.org/api_docs/python/tf/contrib/rnn)). Here we are just defining what the cells look like. This isn't actually building the graph, just defining the type of cells we want in our graph.\n",
        "\n",
        "To create a basic LSTM cell for the graph, you'll want to use `tf.contrib.rnn.BasicLSTMCell`. Looking at the function documentation:\n",
        "\n",
        "```\n",
        "tf.contrib.rnn.BasicLSTMCell(num_units, forget_bias=1.0, input_size=None, state_is_tuple=True, activation=<function tanh at 0x109f1ef28>)\n",
        "```\n",
        "\n",
        "you can see it takes a parameter called `num_units`, the number of units in the cell, called `lstm_size` in this code. So then, you can write something like \n",
        "\n",
        "```\n",
        "lstm = tf.contrib.rnn.BasicLSTMCell(num_units)\n",
        "```\n",
        "\n",
        "to create an LSTM cell with `num_units`. Next, you can add dropout to the cell with `tf.contrib.rnn.DropoutWrapper`. This just wraps the cell in another cell, but with dropout added to the inputs and/or outputs. It's a really convenient way to make your network better with almost no effort! So you'd do something like\n",
        "\n",
        "```\n",
        "drop = tf.contrib.rnn.DropoutWrapper(cell, output_keep_prob=keep_prob)\n",
        "```\n",
        "\n",
        "Most of the time, you're network will have better performance with more layers. That's sort of the magic of deep learning, adding more layers allows the network to learn really complex relationships. Again, there is a simple way to create multiple layers of LSTM cells with `tf.contrib.rnn.MultiRNNCell`:\n",
        "\n",
        "```\n",
        "cell = tf.contrib.rnn.MultiRNNCell([drop] * lstm_layers)\n",
        "```\n",
        "\n",
        "Here, `[drop] * lstm_layers` creates a list of cells (`drop`) that is `lstm_layers` long. The `MultiRNNCell` wrapper builds this into multiple layers of RNN cells, one for each cell in the list.\n",
        "\n",
        "So the final cell you're using in the network is actually multiple (or just one) LSTM cells with dropout. But it all works the same from an architectural viewpoint, just a more complicated graph in the cell.\n",
        "\n",
        "> **Exercise:** Below, use `tf.contrib.rnn.BasicLSTMCell` to create an LSTM cell. Then, add drop out to it with `tf.contrib.rnn.DropoutWrapper`. Finally, create multiple LSTM layers with `tf.contrib.rnn.MultiRNNCell`.\n",
        "\n",
        "Here is [a tutorial on building RNNs](https://www.tensorflow.org/tutorials/recurrent) that will help you out.\n"
      ]
    },
    {
      "cell_type": "code",
      "metadata": {
        "id": "B7DJLIHQTUgY",
        "colab_type": "code",
        "colab": {
          "base_uri": "https://localhost:8080/",
          "height": 272
        },
        "outputId": "9e38c25a-7716-48c8-f16c-69e34dd9106d"
      },
      "source": [
        "with graph.as_default():\n",
        "    # Your basic LSTM cell\n",
        "    lstm = tf.contrib.rnn.BasicLSTMCell(lstm_size)\n",
        "    \n",
        "    # Add dropout to the cell\n",
        "    drop = tf.contrib.rnn.DropoutWrapper(lstm, output_keep_prob=keep_prob)\n",
        "    \n",
        "    # Stack up multiple LSTM layers, for deep learning\n",
        "    cell = tf.contrib.rnn.MultiRNNCell([drop] * lstm_layers)\n",
        "    \n",
        "    # Getting an initial state of all zeros\n",
        "    initial_state = cell.zero_state(batch_size, tf.float32)"
      ],
      "execution_count": null,
      "outputs": [
        {
          "output_type": "stream",
          "text": [
            "WARNING:tensorflow:\n",
            "The TensorFlow contrib module will not be included in TensorFlow 2.0.\n",
            "For more information, please see:\n",
            "  * https://github.com/tensorflow/community/blob/master/rfcs/20180907-contrib-sunset.md\n",
            "  * https://github.com/tensorflow/addons\n",
            "  * https://github.com/tensorflow/io (for I/O related ops)\n",
            "If you depend on functionality not listed there, please file an issue.\n",
            "\n",
            "WARNING:tensorflow:From <ipython-input-16-f9f1fc49d7c3>:3: BasicLSTMCell.__init__ (from tensorflow.python.ops.rnn_cell_impl) is deprecated and will be removed in a future version.\n",
            "Instructions for updating:\n",
            "This class is equivalent as tf.keras.layers.LSTMCell, and will be replaced by that in Tensorflow 2.0.\n",
            "WARNING:tensorflow:From <ipython-input-16-f9f1fc49d7c3>:9: MultiRNNCell.__init__ (from tensorflow.python.ops.rnn_cell_impl) is deprecated and will be removed in a future version.\n",
            "Instructions for updating:\n",
            "This class is equivalent as tf.keras.layers.StackedRNNCells, and will be replaced by that in Tensorflow 2.0.\n"
          ],
          "name": "stdout"
        }
      ]
    },
    {
      "cell_type": "markdown",
      "metadata": {
        "id": "AlgQy-TzTUgd",
        "colab_type": "text"
      },
      "source": [
        "### RNN forward pass\n",
        "\n",
        "<img src=\"https://github.com/udacity/deep-learning/blob/master/sentiment-rnn/assets/network_diagram.png?raw=1\" width=400px>\n",
        "\n",
        "Now we need to actually run the data through the RNN nodes. You can use [`tf.nn.dynamic_rnn`](https://www.tensorflow.org/api_docs/python/tf/nn/dynamic_rnn) to do this. You'd pass in the RNN cell you created (our multiple layered LSTM `cell` for instance), and the inputs to the network.\n",
        "\n",
        "```\n",
        "outputs, final_state = tf.nn.dynamic_rnn(cell, inputs, initial_state=initial_state)\n",
        "```\n",
        "\n",
        "Above I created an initial state, `initial_state`, to pass to the RNN. This is the cell state that is passed between the hidden layers in successive time steps. `tf.nn.dynamic_rnn` takes care of most of the work for us. We pass in our cell and the input to the cell, then it does the unrolling and everything else for us. It returns outputs for each time step and the final_state of the hidden layer.\n",
        "\n",
        "> **Exercise:** Use `tf.nn.dynamic_rnn` to add the forward pass through the RNN. Remember that we're actually passing in vectors from the embedding layer, `embed`.\n",
        "\n"
      ]
    },
    {
      "cell_type": "code",
      "metadata": {
        "id": "f5Q0LuiKTUgd",
        "colab_type": "code",
        "colab": {
          "base_uri": "https://localhost:8080/",
          "height": 188
        },
        "outputId": "fa63a458-57fb-4ed7-9169-13b82b9fe69f"
      },
      "source": [
        "with graph.as_default():\n",
        "    outputs, final_state = tf.nn.dynamic_rnn(cell, embed,\n",
        "                                             initial_state=initial_state)"
      ],
      "execution_count": null,
      "outputs": [
        {
          "output_type": "stream",
          "text": [
            "WARNING:tensorflow:From <ipython-input-17-bf1f4462932c>:3: dynamic_rnn (from tensorflow.python.ops.rnn) is deprecated and will be removed in a future version.\n",
            "Instructions for updating:\n",
            "Please use `keras.layers.RNN(cell)`, which is equivalent to this API\n",
            "WARNING:tensorflow:From /tensorflow-1.15.2/python3.6/tensorflow_core/python/ops/rnn_cell_impl.py:735: Layer.add_variable (from tensorflow.python.keras.engine.base_layer) is deprecated and will be removed in a future version.\n",
            "Instructions for updating:\n",
            "Please use `layer.add_weight` method instead.\n",
            "WARNING:tensorflow:From /tensorflow-1.15.2/python3.6/tensorflow_core/python/ops/rnn_cell_impl.py:739: calling Zeros.__init__ (from tensorflow.python.ops.init_ops) with dtype is deprecated and will be removed in a future version.\n",
            "Instructions for updating:\n",
            "Call initializer instance with the dtype argument instead of passing it to the constructor\n"
          ],
          "name": "stdout"
        }
      ]
    },
    {
      "cell_type": "markdown",
      "metadata": {
        "id": "W5uujT8WTUgh",
        "colab_type": "text"
      },
      "source": [
        "### Output\n",
        "\n",
        "We only care about the final output, we'll be using that as our sentiment prediction. So we need to grab the last output with `outputs[:, -1]`, the calculate the cost from that and `labels_`."
      ]
    },
    {
      "cell_type": "code",
      "metadata": {
        "id": "MdV5XKESTUgi",
        "colab_type": "code",
        "colab": {
          "base_uri": "https://localhost:8080/",
          "height": 138
        },
        "outputId": "5f0d15ef-ea3b-4bbe-f3b2-c8181ba56259"
      },
      "source": [
        "with graph.as_default():\n",
        "    predictions = tf.contrib.layers.fully_connected(outputs[:, -1], 1, activation_fn=tf.sigmoid)\n",
        "    cost = tf.losses.mean_squared_error(labels_, predictions)\n",
        "    \n",
        "    optimizer = tf.train.AdamOptimizer(learning_rate).minimize(cost)"
      ],
      "execution_count": null,
      "outputs": [
        {
          "output_type": "stream",
          "text": [
            "WARNING:tensorflow:From /tensorflow-1.15.2/python3.6/tensorflow_core/contrib/layers/python/layers/layers.py:1866: Layer.apply (from tensorflow.python.keras.engine.base_layer) is deprecated and will be removed in a future version.\n",
            "Instructions for updating:\n",
            "Please use `layer.__call__` method instead.\n",
            "WARNING:tensorflow:From /tensorflow-1.15.2/python3.6/tensorflow_core/python/ops/losses/losses_impl.py:121: where (from tensorflow.python.ops.array_ops) is deprecated and will be removed in a future version.\n",
            "Instructions for updating:\n",
            "Use tf.where in 2.0, which has the same broadcast rule as np.where\n"
          ],
          "name": "stdout"
        }
      ]
    },
    {
      "cell_type": "markdown",
      "metadata": {
        "id": "Z3iA9RbRTUgm",
        "colab_type": "text"
      },
      "source": [
        "### Validation accuracy\n",
        "\n",
        "Here we can add a few nodes to calculate the accuracy which we'll use in the validation pass."
      ]
    },
    {
      "cell_type": "code",
      "metadata": {
        "id": "8uxNR6LbTUgn",
        "colab_type": "code",
        "colab": {}
      },
      "source": [
        "with graph.as_default():\n",
        "    correct_pred = tf.equal(tf.cast(tf.round(predictions), tf.int32), labels_)\n",
        "    accuracy = tf.reduce_mean(tf.cast(correct_pred, tf.float32))"
      ],
      "execution_count": null,
      "outputs": []
    },
    {
      "cell_type": "markdown",
      "metadata": {
        "id": "9AbNDnHaTUgr",
        "colab_type": "text"
      },
      "source": [
        "### Batching\n",
        "\n",
        "This is a simple function for returning batches from our data. First it removes data such that we only have full batches. Then it iterates through the `x` and `y` arrays and returns slices out of those arrays with size `[batch_size]`."
      ]
    },
    {
      "cell_type": "code",
      "metadata": {
        "id": "22HIEnTqTUgt",
        "colab_type": "code",
        "colab": {}
      },
      "source": [
        "def get_batches(x, y, batch_size=100):\n",
        "    \n",
        "    n_batches = len(x)//batch_size\n",
        "    x, y = x[:n_batches*batch_size], y[:n_batches*batch_size]\n",
        "    for ii in range(0, len(x), batch_size):\n",
        "        yield x[ii:ii+batch_size], y[ii:ii+batch_size]"
      ],
      "execution_count": null,
      "outputs": []
    },
    {
      "cell_type": "markdown",
      "metadata": {
        "id": "c4PhamxHTUgx",
        "colab_type": "text"
      },
      "source": [
        "## Training\n",
        "\n",
        "Below is the typical training code. If you want to do this yourself, feel free to delete all this code and implement it yourself. Before you run this, make sure the `checkpoints` directory exists."
      ]
    },
    {
      "cell_type": "code",
      "metadata": {
        "id": "kMDRI9a3TUgy",
        "colab_type": "code",
        "colab": {
          "base_uri": "https://localhost:8080/",
          "height": 1000
        },
        "outputId": "f3ee91de-b402-4e61-d367-fb5ecf19084d"
      },
      "source": [
        "epochs = 10\n",
        "\n",
        "with graph.as_default():\n",
        "    saver = tf.train.Saver()\n",
        "\n",
        "with tf.Session(graph=graph) as sess:\n",
        "    sess.run(tf.global_variables_initializer())\n",
        "    iteration = 1\n",
        "    for e in range(epochs):\n",
        "        state = sess.run(initial_state)\n",
        "        \n",
        "        for ii, (x, y) in enumerate(get_batches(train_x, train_y, batch_size), 1):\n",
        "            feed = {inputs_: x,\n",
        "                    labels_: y[:, None],\n",
        "                    keep_prob: 0.5,\n",
        "                    initial_state: state}\n",
        "            loss, state, _ = sess.run([cost, final_state, optimizer], feed_dict=feed)\n",
        "            \n",
        "            if iteration%5==0:\n",
        "                print(\"Epoch: {}/{}\".format(e, epochs),\n",
        "                      \"Iteration: {}\".format(iteration),\n",
        "                      \"Train loss: {:.3f}\".format(loss))\n",
        "\n",
        "            if iteration%25==0:\n",
        "                val_acc = []\n",
        "                val_state = sess.run(cell.zero_state(batch_size, tf.float32))\n",
        "                for x, y in get_batches(val_x, val_y, batch_size):\n",
        "                    feed = {inputs_: x,\n",
        "                            labels_: y[:, None],\n",
        "                            keep_prob: 1,\n",
        "                            initial_state: val_state}\n",
        "                    batch_acc, val_state = sess.run([accuracy, final_state], feed_dict=feed)\n",
        "                    val_acc.append(batch_acc)\n",
        "                print(\"Val acc: {:.3f}\".format(np.mean(val_acc)))\n",
        "            iteration +=1\n",
        "    saver.save(sess, \"checkpoints/sentiment.ckpt\")"
      ],
      "execution_count": null,
      "outputs": [
        {
          "output_type": "stream",
          "text": [
            "Epoch: 0/10 Iteration: 5 Train loss: 0.246\n",
            "Epoch: 0/10 Iteration: 10 Train loss: 0.244\n",
            "Epoch: 0/10 Iteration: 15 Train loss: 0.225\n",
            "Epoch: 0/10 Iteration: 20 Train loss: 0.208\n",
            "Epoch: 0/10 Iteration: 25 Train loss: 0.236\n",
            "Val acc: 0.661\n",
            "Epoch: 0/10 Iteration: 30 Train loss: 0.218\n",
            "Epoch: 0/10 Iteration: 35 Train loss: 0.229\n",
            "Epoch: 0/10 Iteration: 40 Train loss: 0.221\n",
            "Epoch: 1/10 Iteration: 45 Train loss: 0.193\n",
            "Epoch: 1/10 Iteration: 50 Train loss: 0.187\n",
            "Val acc: 0.733\n",
            "Epoch: 1/10 Iteration: 55 Train loss: 0.167\n",
            "Epoch: 1/10 Iteration: 60 Train loss: 0.159\n",
            "Epoch: 1/10 Iteration: 65 Train loss: 0.149\n",
            "Epoch: 1/10 Iteration: 70 Train loss: 0.166\n",
            "Epoch: 1/10 Iteration: 75 Train loss: 0.150\n",
            "Val acc: 0.793\n",
            "Epoch: 1/10 Iteration: 80 Train loss: 0.138\n",
            "Epoch: 2/10 Iteration: 85 Train loss: 0.121\n",
            "Epoch: 2/10 Iteration: 90 Train loss: 0.134\n",
            "Epoch: 2/10 Iteration: 95 Train loss: 0.107\n",
            "Epoch: 2/10 Iteration: 100 Train loss: 0.098\n",
            "Val acc: 0.716\n",
            "Epoch: 2/10 Iteration: 105 Train loss: 0.158\n",
            "Epoch: 2/10 Iteration: 110 Train loss: 0.140\n",
            "Epoch: 2/10 Iteration: 115 Train loss: 0.117\n",
            "Epoch: 2/10 Iteration: 120 Train loss: 0.128\n",
            "Epoch: 3/10 Iteration: 125 Train loss: 0.113\n",
            "Val acc: 0.798\n",
            "Epoch: 3/10 Iteration: 130 Train loss: 0.094\n",
            "Epoch: 3/10 Iteration: 135 Train loss: 0.078\n",
            "Epoch: 3/10 Iteration: 140 Train loss: 0.081\n",
            "Epoch: 3/10 Iteration: 145 Train loss: 0.090\n",
            "Epoch: 3/10 Iteration: 150 Train loss: 0.094\n",
            "Val acc: 0.795\n",
            "Epoch: 3/10 Iteration: 155 Train loss: 0.103\n",
            "Epoch: 3/10 Iteration: 160 Train loss: 0.084\n",
            "Epoch: 4/10 Iteration: 165 Train loss: 0.068\n",
            "Epoch: 4/10 Iteration: 170 Train loss: 0.087\n",
            "Epoch: 4/10 Iteration: 175 Train loss: 0.060\n",
            "Val acc: 0.836\n",
            "Epoch: 4/10 Iteration: 180 Train loss: 0.075\n",
            "Epoch: 4/10 Iteration: 185 Train loss: 0.059\n",
            "Epoch: 4/10 Iteration: 190 Train loss: 0.076\n",
            "Epoch: 4/10 Iteration: 195 Train loss: 0.072\n",
            "Epoch: 4/10 Iteration: 200 Train loss: 0.028\n",
            "Val acc: 0.751\n",
            "Epoch: 5/10 Iteration: 205 Train loss: 0.100\n",
            "Epoch: 5/10 Iteration: 210 Train loss: 0.073\n",
            "Epoch: 5/10 Iteration: 215 Train loss: 0.045\n",
            "Epoch: 5/10 Iteration: 220 Train loss: 0.048\n",
            "Epoch: 5/10 Iteration: 225 Train loss: 0.048\n",
            "Val acc: 0.528\n",
            "Epoch: 5/10 Iteration: 230 Train loss: 0.048\n",
            "Epoch: 5/10 Iteration: 235 Train loss: 0.048\n",
            "Epoch: 5/10 Iteration: 240 Train loss: 0.045\n",
            "Epoch: 6/10 Iteration: 245 Train loss: 0.305\n",
            "Epoch: 6/10 Iteration: 250 Train loss: 0.179\n",
            "Val acc: 0.612\n",
            "Epoch: 6/10 Iteration: 255 Train loss: 0.222\n",
            "Epoch: 6/10 Iteration: 260 Train loss: 0.177\n",
            "Epoch: 6/10 Iteration: 265 Train loss: 0.116\n",
            "Epoch: 6/10 Iteration: 270 Train loss: 0.119\n",
            "Epoch: 6/10 Iteration: 275 Train loss: 0.088\n",
            "Val acc: 0.790\n",
            "Epoch: 6/10 Iteration: 280 Train loss: 0.103\n",
            "Epoch: 7/10 Iteration: 285 Train loss: 0.047\n",
            "Epoch: 7/10 Iteration: 290 Train loss: 0.083\n",
            "Epoch: 7/10 Iteration: 295 Train loss: 0.051\n",
            "Epoch: 7/10 Iteration: 300 Train loss: 0.061\n",
            "Val acc: 0.846\n",
            "Epoch: 7/10 Iteration: 305 Train loss: 0.070\n",
            "Epoch: 7/10 Iteration: 310 Train loss: 0.111\n",
            "Epoch: 7/10 Iteration: 315 Train loss: 0.078\n",
            "Epoch: 7/10 Iteration: 320 Train loss: 0.098\n",
            "Epoch: 8/10 Iteration: 325 Train loss: 0.057\n",
            "Val acc: 0.841\n",
            "Epoch: 8/10 Iteration: 330 Train loss: 0.071\n",
            "Epoch: 8/10 Iteration: 335 Train loss: 0.071\n",
            "Epoch: 8/10 Iteration: 340 Train loss: 0.086\n",
            "Epoch: 8/10 Iteration: 345 Train loss: 0.064\n",
            "Epoch: 8/10 Iteration: 350 Train loss: 0.058\n",
            "Val acc: 0.823\n",
            "Epoch: 8/10 Iteration: 355 Train loss: 0.082\n",
            "Epoch: 8/10 Iteration: 360 Train loss: 0.076\n",
            "Epoch: 9/10 Iteration: 365 Train loss: 0.072\n",
            "Epoch: 9/10 Iteration: 370 Train loss: 0.087\n",
            "Epoch: 9/10 Iteration: 375 Train loss: 0.056\n",
            "Val acc: 0.847\n",
            "Epoch: 9/10 Iteration: 380 Train loss: 0.045\n",
            "Epoch: 9/10 Iteration: 385 Train loss: 0.029\n",
            "Epoch: 9/10 Iteration: 390 Train loss: 0.044\n",
            "Epoch: 9/10 Iteration: 395 Train loss: 0.063\n",
            "Epoch: 9/10 Iteration: 400 Train loss: 0.087\n",
            "Val acc: 0.798\n"
          ],
          "name": "stdout"
        }
      ]
    },
    {
      "cell_type": "markdown",
      "metadata": {
        "id": "kMPIgJ62TUg2",
        "colab_type": "text"
      },
      "source": [
        "## Testing"
      ]
    },
    {
      "cell_type": "code",
      "metadata": {
        "id": "kxvfIwVaTUg2",
        "colab_type": "code",
        "colab": {
          "base_uri": "https://localhost:8080/",
          "height": 50
        },
        "outputId": "5cf91deb-44e1-4263-ad07-3bc52b87e049"
      },
      "source": [
        "test_acc = []\n",
        "with tf.Session(graph=graph) as sess:\n",
        "    saver.restore(sess, tf.train.latest_checkpoint('checkpoints'))\n",
        "    test_state = sess.run(cell.zero_state(batch_size, tf.float32))\n",
        "    for ii, (x, y) in enumerate(get_batches(test_x, test_y, batch_size), 1):\n",
        "        feed = {inputs_: x,\n",
        "                labels_: y[:, None],\n",
        "                keep_prob: 1,\n",
        "                initial_state: test_state}\n",
        "        batch_acc, test_state = sess.run([accuracy, final_state], feed_dict=feed)\n",
        "        test_acc.append(batch_acc)\n",
        "    print(\"Test accuracy: {:.3f}\".format(np.mean(test_acc)))"
      ],
      "execution_count": null,
      "outputs": [
        {
          "output_type": "stream",
          "text": [
            "INFO:tensorflow:Restoring parameters from checkpoints/sentiment.ckpt\n",
            "Test accuracy: 0.806\n"
          ],
          "name": "stdout"
        }
      ]
    }
  ]
}