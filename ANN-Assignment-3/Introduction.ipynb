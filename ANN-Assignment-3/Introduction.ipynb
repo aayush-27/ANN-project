{
  "nbformat": 4,
  "nbformat_minor": 0,
  "metadata": {
    "kernelspec": {
      "display_name": "Python 3",
      "language": "python",
      "name": "python3"
    },
    "language_info": {
      "codemirror_mode": {
        "name": "ipython",
        "version": 3
      },
      "file_extension": ".py",
      "mimetype": "text/x-python",
      "name": "python",
      "nbconvert_exporter": "python",
      "pygments_lexer": "ipython3",
      "version": "3.6.4"
    },
    "colab": {
      "name": "Introduction.ipynb",
      "provenance": [],
      "toc_visible": true
    },
    "accelerator": "GPU"
  },
  "cells": [
    {
      "cell_type": "markdown",
      "metadata": {
        "id": "Q8VW4tjKhkru",
        "colab_type": "text"
      },
      "source": [
        "# Anna KaRNNa\n",
        "\n",
        "In this notebook, we'll build a character-wise RNN trained on Anna Karenina, one of my all-time favorite books. It'll be able to generate new text based on the text from the book.\n",
        "\n",
        "This network is based off of Andrej Karpathy's [post on RNNs](http://karpathy.github.io/2015/05/21/rnn-effectiveness/) and [implementation in Torch](https://github.com/karpathy/char-rnn). Also, some information [here at r2rt](http://r2rt.com/recurrent-neural-networks-in-tensorflow-ii.html) and from [Sherjil Ozair](https://github.com/sherjilozair/char-rnn-tensorflow) on GitHub. Below is the general architecture of the character-wise RNN.\n",
        "\n",
        "<img src=\"assets/charseq.jpeg\" width=\"500\">"
      ]
    },
    {
      "cell_type": "code",
      "metadata": {
        "id": "jTbxflHbhkrv",
        "colab_type": "code",
        "colab": {
          "base_uri": "https://localhost:8080/",
          "height": 34
        },
        "outputId": "c2abe7c3-d2b4-40a9-b770-94df7a036911"
      },
      "source": [
        "%tensorflow_version 1.x\n",
        "\n",
        "import time\n",
        "from collections import namedtuple\n",
        "\n",
        "import numpy as np\n",
        "import tensorflow as tf"
      ],
      "execution_count": null,
      "outputs": [
        {
          "output_type": "stream",
          "text": [
            "TensorFlow 1.x selected.\n"
          ],
          "name": "stdout"
        }
      ]
    },
    {
      "cell_type": "markdown",
      "metadata": {
        "id": "3OqeWP8yhkrz",
        "colab_type": "text"
      },
      "source": [
        "First we'll load the text file and convert it into integers for our network to use. Here I'm creating a couple dictionaries to convert the characters to and from integers. Encoding the characters as integers makes it easier to use as input in the network."
      ]
    },
    {
      "cell_type": "code",
      "metadata": {
        "id": "fyndMpj9hkr0",
        "colab_type": "code",
        "colab": {}
      },
      "source": [
        "with open('anna.txt', 'r') as f:\n",
        "    text=f.read()\n",
        "vocab = sorted(set(text))\n",
        "vocab_to_int = {c: i for i, c in enumerate(vocab)}\n",
        "int_to_vocab = dict(enumerate(vocab))\n",
        "encoded = np.array([vocab_to_int[c] for c in text], dtype=np.int32)"
      ],
      "execution_count": null,
      "outputs": []
    },
    {
      "cell_type": "markdown",
      "metadata": {
        "id": "JTsbUdWAhkr3",
        "colab_type": "text"
      },
      "source": [
        "Let's check out the first 100 characters, make sure everything is peachy. According to the [American Book Review](http://americanbookreview.org/100bestlines.asp), this is the 6th best first line of a book ever."
      ]
    },
    {
      "cell_type": "code",
      "metadata": {
        "id": "Q56uuJadhkr3",
        "colab_type": "code",
        "colab": {
          "base_uri": "https://localhost:8080/",
          "height": 35
        },
        "outputId": "cd9757a6-1896-4f60-e17d-ce32f6eba6a2"
      },
      "source": [
        "text[:100]"
      ],
      "execution_count": null,
      "outputs": [
        {
          "output_type": "execute_result",
          "data": {
            "application/vnd.google.colaboratory.intrinsic": {
              "type": "string"
            },
            "text/plain": [
              "'Chapter 1\\n\\n\\nHappy families are all alike; every unhappy family is unhappy in its own\\nway.\\n\\nEverythin'"
            ]
          },
          "metadata": {
            "tags": []
          },
          "execution_count": 3
        }
      ]
    },
    {
      "cell_type": "markdown",
      "metadata": {
        "id": "0mw35J9Rhkr6",
        "colab_type": "text"
      },
      "source": [
        "And we can see the characters encoded as integers."
      ]
    },
    {
      "cell_type": "code",
      "metadata": {
        "id": "4SETKgqthkr6",
        "colab_type": "code",
        "colab": {
          "base_uri": "https://localhost:8080/",
          "height": 134
        },
        "outputId": "16855ee3-cad8-481c-88a6-1023fe61590e"
      },
      "source": [
        "encoded[:100]"
      ],
      "execution_count": null,
      "outputs": [
        {
          "output_type": "execute_result",
          "data": {
            "text/plain": [
              "array([31, 64, 57, 72, 76, 61, 74,  1, 16,  0,  0,  0, 36, 57, 72, 72, 81,\n",
              "        1, 62, 57, 69, 65, 68, 65, 61, 75,  1, 57, 74, 61,  1, 57, 68, 68,\n",
              "        1, 57, 68, 65, 67, 61, 26,  1, 61, 78, 61, 74, 81,  1, 77, 70, 64,\n",
              "       57, 72, 72, 81,  1, 62, 57, 69, 65, 68, 81,  1, 65, 75,  1, 77, 70,\n",
              "       64, 57, 72, 72, 81,  1, 65, 70,  1, 65, 76, 75,  1, 71, 79, 70,  0,\n",
              "       79, 57, 81, 13,  0,  0, 33, 78, 61, 74, 81, 76, 64, 65, 70],\n",
              "      dtype=int32)"
            ]
          },
          "metadata": {
            "tags": []
          },
          "execution_count": 4
        }
      ]
    },
    {
      "cell_type": "markdown",
      "metadata": {
        "id": "pbdwe360hkr9",
        "colab_type": "text"
      },
      "source": [
        "Since the network is working with individual characters, it's similar to a classification problem in which we are trying to predict the next character from the previous text.  Here's how many 'classes' our network has to pick from."
      ]
    },
    {
      "cell_type": "code",
      "metadata": {
        "id": "gnXfiLckhkr9",
        "colab_type": "code",
        "colab": {
          "base_uri": "https://localhost:8080/",
          "height": 34
        },
        "outputId": "5cbf83b1-7b43-42e9-974c-6d4a06f987b8"
      },
      "source": [
        "len(vocab)"
      ],
      "execution_count": null,
      "outputs": [
        {
          "output_type": "execute_result",
          "data": {
            "text/plain": [
              "83"
            ]
          },
          "metadata": {
            "tags": []
          },
          "execution_count": 5
        }
      ]
    },
    {
      "cell_type": "markdown",
      "metadata": {
        "id": "egLxOnmUhksA",
        "colab_type": "text"
      },
      "source": [
        "## Making training mini-batches\n",
        "\n",
        "Here is where we'll make our mini-batches for training. Remember that we want our batches to be multiple sequences of some desired number of sequence steps. Considering a simple example, our batches would look like this:\n",
        "\n",
        "<img src=\"assets/sequence_batching@1x.png\" width=500px>\n",
        "\n",
        "\n",
        "<br>\n",
        "\n",
        "We start with our text encoded as integers in one long array in `encoded`. Let's create a function that will give us an iterator for our batches. I like using [generator functions](https://jeffknupp.com/blog/2013/04/07/improve-your-python-yield-and-generators-explained/) to do this. Then we can pass `encoded` into this function and get our batch generator.\n",
        "\n",
        "The first thing we need to do is discard some of the text so we only have completely full batches. Each batch contains $N \\times M$ characters, where $N$ is the batch size (the number of sequences) and $M$ is the number of steps. Then, to get the total number of batches, $K$, we can make from the array `arr`, you divide the length of `arr` by the number of characters per batch. Once you know the number of batches, you can get the total number of characters to keep from `arr`, $N * M * K$.\n",
        "\n",
        "After that, we need to split `arr` into $N$ sequences. You can do this using `arr.reshape(size)` where `size` is a tuple containing the dimensions sizes of the reshaped array. We know we want $N$ sequences (`batch_size` below), let's make that the size of the first dimension. For the second dimension, you can use `-1` as a placeholder in the size, it'll fill up the array with the appropriate data for you. After this, you should have an array that is $N \\times (M * K)$.\n",
        "\n",
        "Now that we have this array, we can iterate through it to get our batches. The idea is each batch is a $N \\times M$ window on the $N \\times (M * K)$ array. For each subsequent batch, the window moves over by `n_steps`. We also want to create both the input and target arrays. Remember that the targets are the inputs shifted over one character. \n",
        "\n",
        "The way I like to do this window is use `range` to take steps of size `n_steps` from $0$ to `arr.shape[1]`, the total number of steps in each sequence. That way, the integers you get from `range` always point to the start of a batch, and each window is `n_steps` wide.\n",
        "\n",
        "> **Exercise:** Write the code for creating batches in the function below. The exercises in this notebook _will not be easy_. I've provided a notebook with solutions alongside this notebook. If you get stuck, checkout the solutions. The most important thing is that you don't copy and paste the code into here, **type out the solution code yourself.**"
      ]
    },
    {
      "cell_type": "code",
      "metadata": {
        "id": "fybAhi8PhksB",
        "colab_type": "code",
        "colab": {}
      },
      "source": [
        "def get_batches(arr, batch_size, n_steps):\n",
        "    '''Create a generator that returns batches of size\n",
        "       batch_size x n_steps from arr.\n",
        "       \n",
        "       Arguments\n",
        "       ---------\n",
        "       arr: Array you want to make batches from\n",
        "       batch_size: Batch size, the number of sequences per batch\n",
        "       n_steps: Number of sequence steps per batch\n",
        "    '''\n",
        "    # Get the number of characters per batch and number of batches we can make\n",
        "    chars_per_batch = batch_size * n_steps\n",
        "    K = int(len(arr)/chars_per_batch)\n",
        "    \n",
        "    # Keep only enough characters to make full batches\n",
        "    arr = arr[:chars_per_batch*K]\n",
        "    \n",
        "    # Reshape into batch_size rows\n",
        "    arr = arr.reshape((batch_size,-1))\n",
        "    \n",
        "    for n in range(0, arr.shape[1], n_steps):\n",
        "        # The features\n",
        "        x = arr[:,n:n+n_steps]\n",
        "        \n",
        "        # The targets, shifted by one\n",
        "        if n != (arr.shape[1]-n_steps):\n",
        "          y = arr[:, n+1:n+n_steps+1]\n",
        "        else :\n",
        "          y = np.zeros(x.shape,dtype=x.dtype)\n",
        "          y[:,:y.shape[1]-1] = arr[:, n+1:n+n_steps]\n",
        "          \n",
        "\n",
        "        yield x, y"
      ],
      "execution_count": null,
      "outputs": []
    },
    {
      "cell_type": "markdown",
      "metadata": {
        "id": "mFngO1G3hksE",
        "colab_type": "text"
      },
      "source": [
        "Now I'll make my data sets and we can check out what's going on here. Here I'm going to use a batch size of 10 and 50 sequence steps."
      ]
    },
    {
      "cell_type": "code",
      "metadata": {
        "id": "zxr9pcj6hksE",
        "colab_type": "code",
        "colab": {}
      },
      "source": [
        "batches = get_batches(encoded, 10, 50)\n",
        "x, y = next(batches)"
      ],
      "execution_count": null,
      "outputs": []
    },
    {
      "cell_type": "code",
      "metadata": {
        "id": "PqIQeRX4hksH",
        "colab_type": "code",
        "colab": {
          "base_uri": "https://localhost:8080/",
          "height": 403
        },
        "outputId": "a6d1858a-aafe-4ee8-c32a-54a4b88d3084"
      },
      "source": [
        "print('x\\n', x[:10, :10])\n",
        "print('\\ny\\n', y[:10, :10])"
      ],
      "execution_count": null,
      "outputs": [
        {
          "output_type": "stream",
          "text": [
            "x\n",
            " [[31 64 57 72 76 61 74  1 16  0]\n",
            " [ 1 57 69  1 70 71 76  1 63 71]\n",
            " [78 65 70 13  0  0  3 53 61 75]\n",
            " [70  1 60 77 74 65 70 63  1 64]\n",
            " [ 1 65 76  1 65 75 11  1 75 65]\n",
            " [ 1 37 76  1 79 57 75  0 71 70]\n",
            " [64 61 70  1 59 71 69 61  1 62]\n",
            " [26  1 58 77 76  1 70 71 79  1]\n",
            " [76  1 65 75 70  7 76 13  1 48]\n",
            " [ 1 75 57 65 60  1 76 71  1 64]]\n",
            "\n",
            "y\n",
            " [[64 57 72 76 61 74  1 16  0  0]\n",
            " [57 69  1 70 71 76  1 63 71 65]\n",
            " [65 70 13  0  0  3 53 61 75 11]\n",
            " [ 1 60 77 74 65 70 63  1 64 65]\n",
            " [65 76  1 65 75 11  1 75 65 74]\n",
            " [37 76  1 79 57 75  0 71 70 68]\n",
            " [61 70  1 59 71 69 61  1 62 71]\n",
            " [ 1 58 77 76  1 70 71 79  1 75]\n",
            " [ 1 65 75 70  7 76 13  1 48 64]\n",
            " [75 57 65 60  1 76 71  1 64 61]]\n"
          ],
          "name": "stdout"
        }
      ]
    },
    {
      "cell_type": "markdown",
      "metadata": {
        "id": "3LncCg73hksK",
        "colab_type": "text"
      },
      "source": [
        "If you implemented `get_batches` correctly, the above output should look something like \n",
        "```\n",
        "x\n",
        " [[55 63 69 22  6 76 45  5 16 35]\n",
        " [ 5 69  1  5 12 52  6  5 56 52]\n",
        " [48 29 12 61 35 35  8 64 76 78]\n",
        " [12  5 24 39 45 29 12 56  5 63]\n",
        " [ 5 29  6  5 29 78 28  5 78 29]\n",
        " [ 5 13  6  5 36 69 78 35 52 12]\n",
        " [63 76 12  5 18 52  1 76  5 58]\n",
        " [34  5 73 39  6  5 12 52 36  5]\n",
        " [ 6  5 29 78 12 79  6 61  5 59]\n",
        " [ 5 78 69 29 24  5  6 52  5 63]]\n",
        "\n",
        "y\n",
        " [[63 69 22  6 76 45  5 16 35 35]\n",
        " [69  1  5 12 52  6  5 56 52 29]\n",
        " [29 12 61 35 35  8 64 76 78 28]\n",
        " [ 5 24 39 45 29 12 56  5 63 29]\n",
        " [29  6  5 29 78 28  5 78 29 45]\n",
        " [13  6  5 36 69 78 35 52 12 43]\n",
        " [76 12  5 18 52  1 76  5 58 52]\n",
        " [ 5 73 39  6  5 12 52 36  5 78]\n",
        " [ 5 29 78 12 79  6 61  5 59 63]\n",
        " [78 69 29 24  5  6 52  5 63 76]]\n",
        " ```\n",
        " although the exact numbers will be different. Check to make sure the data is shifted over one step for `y`."
      ]
    },
    {
      "cell_type": "markdown",
      "metadata": {
        "id": "PumBi8LFhksK",
        "colab_type": "text"
      },
      "source": [
        "## Building the model\n",
        "\n",
        "Below is where you'll build the network. We'll break it up into parts so it's easier to reason about each bit. Then we can connect them up into the whole network.\n",
        "\n",
        "<img src=\"assets/charRNN.png\" width=500px>\n",
        "\n",
        "\n",
        "### Inputs\n",
        "\n",
        "First off we'll create our input placeholders. As usual we need placeholders for the training data and the targets. We'll also create a placeholder for dropout layers called `keep_prob`. This will be a scalar, that is a 0-D tensor. To make a scalar, you create a placeholder without giving it a size.\n",
        "\n",
        "> **Exercise:** Create the input placeholders in the function below."
      ]
    },
    {
      "cell_type": "code",
      "metadata": {
        "id": "wA71-D3ChksL",
        "colab_type": "code",
        "colab": {}
      },
      "source": [
        "def build_inputs(batch_size, num_steps):\n",
        "    ''' Define placeholders for inputs, targets, and dropout \n",
        "    \n",
        "        Arguments\n",
        "        ---------\n",
        "        batch_size: Batch size, number of sequences per batch\n",
        "        num_steps: Number of sequence steps in a batch\n",
        "        \n",
        "    '''\n",
        "    # Declare placeholders we'll feed into the graph\n",
        "    inputs = tf.placeholder(tf.int32,(batch_size,num_steps),name='inputs')\n",
        "    targets = tf.placeholder(tf.int32,(batch_size, num_steps), name='targets')\n",
        "\n",
        "    # Keep probability placeholder for drop out layers\n",
        "    keep_prob = tf.placeholder(tf.float32, name='keep_prob')\n",
        "    \n",
        "    return inputs, targets, keep_prob"
      ],
      "execution_count": null,
      "outputs": []
    },
    {
      "cell_type": "markdown",
      "metadata": {
        "id": "h5bYApRnhksN",
        "colab_type": "text"
      },
      "source": [
        "### LSTM Cell\n",
        "\n",
        "Here we will create the LSTM cell we'll use in the hidden layer. We'll use this cell as a building block for the RNN. So we aren't actually defining the RNN here, just the type of cell we'll use in the hidden layer.\n",
        "\n",
        "We first create a basic LSTM cell with\n",
        "\n",
        "```python\n",
        "lstm = tf.contrib.rnn.BasicLSTMCell(num_units)\n",
        "```\n",
        "\n",
        "where `num_units` is the number of units in the hidden layers in the cell. Then we can add dropout by wrapping it with \n",
        "\n",
        "```python\n",
        "tf.contrib.rnn.DropoutWrapper(lstm, output_keep_prob=keep_prob)\n",
        "```\n",
        "You pass in a cell and it will automatically add dropout to the inputs or outputs. Finally, we can stack up the LSTM cells into layers with [`tf.contrib.rnn.MultiRNNCell`](https://www.tensorflow.org/versions/r1.0/api_docs/python/tf/contrib/rnn/MultiRNNCell). With this, you pass in a list of cells and it will send the output of one cell into the next cell. Previously with TensorFlow 1.0, you could do this\n",
        "\n",
        "```python\n",
        "tf.contrib.rnn.MultiRNNCell([cell]*num_layers)\n",
        "```\n",
        "\n",
        "This might look a little weird if you know Python well because this will create a list of the same `cell` object. However, TensorFlow 1.0 will create different weight matrices for all `cell` objects. But, starting with TensorFlow 1.1 you actually need to create new cell objects in the list. To get it to work in TensorFlow 1.1, it should look like\n",
        "\n",
        "```python\n",
        "def build_cell(num_units, keep_prob):\n",
        "    lstm = tf.contrib.rnn.BasicLSTMCell(num_units)\n",
        "    drop = tf.contrib.rnn.DropoutWrapper(lstm, output_keep_prob=keep_prob)\n",
        "    \n",
        "    return drop\n",
        "    \n",
        "tf.contrib.rnn.MultiRNNCell([build_cell(num_units, keep_prob) for _ in range(num_layers)])\n",
        "```\n",
        "\n",
        "Even though this is actually multiple LSTM cells stacked on each other, you can treat the multiple layers as one cell.\n",
        "\n",
        "We also need to create an initial cell state of all zeros. This can be done like so\n",
        "\n",
        "```python\n",
        "initial_state = cell.zero_state(batch_size, tf.float32)\n",
        "```\n",
        "\n",
        "Below, we implement the `build_lstm` function to create these LSTM cells and the initial state."
      ]
    },
    {
      "cell_type": "code",
      "metadata": {
        "id": "QWWC-JCOhksO",
        "colab_type": "code",
        "colab": {}
      },
      "source": [
        "def build_lstm(lstm_size, num_layers, batch_size, keep_prob):\n",
        "    ''' Build LSTM cell.\n",
        "    \n",
        "        Arguments\n",
        "        ---------\n",
        "        keep_prob: Scalar tensor (tf.placeholder) for the dropout keep probability\n",
        "        lstm_size: Size of the hidden layers in the LSTM cells\n",
        "        num_layers: Number of LSTM layers\n",
        "        batch_size: Batch size\n",
        "\n",
        "    '''\n",
        "    ### Build the LSTM Cell\n",
        "    def build_cell(lstm_size, keep_prob):\n",
        "        # Use a basic LSTM cell\n",
        "        lstm = tf.contrib.rnn.BasicLSTMCell(lstm_size)\n",
        "        \n",
        "        # Add dropout to the cell\n",
        "        drop = tf.contrib.rnn.DropoutWrapper(lstm, output_keep_prob=keep_prob)\n",
        "        return drop\n",
        "    \n",
        "    \n",
        "    # Stack up multiple LSTM layers, for deep learning\n",
        "    cell = tf.contrib.rnn.MultiRNNCell([build_cell(lstm_size, keep_prob) for _ in range(num_layers)])\n",
        "    initial_state = cell.zero_state(batch_size, tf.float32)\n",
        "    \n",
        "    return cell, initial_state"
      ],
      "execution_count": null,
      "outputs": []
    },
    {
      "cell_type": "markdown",
      "metadata": {
        "id": "7iDW-kp0hksR",
        "colab_type": "text"
      },
      "source": [
        "### RNN Output\n",
        "\n",
        "Here we'll create the output layer. We need to connect the output of the RNN cells to a full connected layer with a softmax output. The softmax output gives us a probability distribution we can use to predict the next character, so we want this layer to have size $C$, the number of classes/characters we have in our text.\n",
        "\n",
        "If our input has batch size $N$, number of steps $M$, and the hidden layer has $L$ hidden units, then the output is a 3D tensor with size $N \\times M \\times L$. The output of each LSTM cell has size $L$, we have $M$ of them, one for each sequence step, and we have $N$ sequences. So the total size is $N \\times M \\times L$. \n",
        "\n",
        "We are using the same fully connected layer, the same weights, for each of the outputs. Then, to make things easier, we should reshape the outputs into a 2D tensor with shape $(M * N) \\times L$. That is, one row for each sequence and step, where the values of each row are the output from the LSTM cells. We get the LSTM output as a list, `lstm_output`. First we need to concatenate this whole list into one array with [`tf.concat`](https://www.tensorflow.org/api_docs/python/tf/concat). Then, reshape it (with `tf.reshape`) to size $(M * N) \\times L$.\n",
        "\n",
        "One we have the outputs reshaped, we can do the matrix multiplication with the weights. We need to wrap the weight and bias variables in a variable scope with `tf.variable_scope(scope_name)` because there are weights being created in the LSTM cells. TensorFlow will throw an error if the weights created here have the same names as the weights created in the LSTM cells, which they will be default. To avoid this, we wrap the variables in a variable scope so we can give them unique names.\n",
        "\n",
        "> **Exercise:** Implement the output layer in the function below."
      ]
    },
    {
      "cell_type": "code",
      "metadata": {
        "id": "3EJdPFCshksR",
        "colab_type": "code",
        "colab": {}
      },
      "source": [
        "def build_output(lstm_output, in_size, out_size):\n",
        "    ''' Build a softmax layer, return the softmax output and logits.\n",
        "    \n",
        "        Arguments\n",
        "        ---------\n",
        "        \n",
        "        lstm_output: List of output tensors from the LSTM layer\n",
        "        in_size: Size of the input tensor, for example, size of the LSTM cells\n",
        "        out_size: Size of this softmax layer\n",
        "    \n",
        "    '''\n",
        "\n",
        "    # Reshape output so it's a bunch of rows, one row for each step for each sequence.\n",
        "    # Concatenate lstm_output over axis 1 (the columns)\n",
        "    seq_output = tf.concat(lstm_output,axis=1)\n",
        "    # Reshape seq_output to a 2D tensor with lstm_size columns\n",
        "    x = tf.reshape(seq_output, [-1, in_size])\n",
        "    \n",
        "    # Connect the RNN outputs to a softmax layer\n",
        "    with tf.variable_scope('softmax'):\n",
        "        # Create the weight and bias variables here\n",
        "        softmax_w = tf.Variable(tf.truncated_normal((in_size,out_size),stddev=0.1))\n",
        "        softmax_b = tf.Variable(tf.zeros(out_size))\n",
        "    \n",
        "    # Since output is a bunch of rows of RNN cell outputs, logits will be a bunch\n",
        "    # of rows of logit outputs, one for each step and sequence\n",
        "    logits =  tf.matmul(x, softmax_w) + softmax_b\n",
        "    \n",
        "    # Use softmax to get the probabilities for predicted characters\n",
        "    out = tf.nn.softmax(logits)\n",
        "    \n",
        "    return out, logits"
      ],
      "execution_count": null,
      "outputs": []
    },
    {
      "cell_type": "markdown",
      "metadata": {
        "id": "c1S1CMEbhksT",
        "colab_type": "text"
      },
      "source": [
        "### Training loss\n",
        "\n",
        "Next up is the training loss. We get the logits and targets and calculate the softmax cross-entropy loss. First we need to one-hot encode the targets, we're getting them as encoded characters. Then, reshape the one-hot targets so it's a 2D tensor with size $(M*N) \\times C$ where $C$ is the number of classes/characters we have. Remember that we reshaped the LSTM outputs and ran them through a fully connected layer with $C$ units. So our logits will also have size $(M*N) \\times C$.\n",
        "\n",
        "Then we run the logits and targets through `tf.nn.softmax_cross_entropy_with_logits` and find the mean to get the loss.\n",
        "\n",
        ">**Exercise:** Implement the loss calculation in the function below."
      ]
    },
    {
      "cell_type": "code",
      "metadata": {
        "id": "-sioI-eNhksU",
        "colab_type": "code",
        "colab": {}
      },
      "source": [
        "def build_loss(logits, targets, lstm_size, num_classes):\n",
        "    ''' Calculate the loss from the logits and the targets.\n",
        "    \n",
        "        Arguments\n",
        "        ---------\n",
        "        logits: Logits from final fully connected layer\n",
        "        targets: Targets for supervised learning\n",
        "        lstm_size: Number of LSTM hidden units\n",
        "        num_classes: Number of classes in targets\n",
        "        \n",
        "    '''\n",
        "    \n",
        "    # One-hot encode targets and reshape to match logits, one row per sequence per step\n",
        "    y_one_hot = tf.one_hot(targets,num_classes)\n",
        "    y_reshaped =  tf.reshape(y_one_hot,shape=(-1,num_classes))\n",
        "    \n",
        "    # Softmax cross entropy loss\n",
        "    loss = tf.reduce_mean(tf.nn.softmax_cross_entropy_with_logits(logits=logits,labels=y_reshaped))\n",
        "    \n",
        "    return loss"
      ],
      "execution_count": null,
      "outputs": []
    },
    {
      "cell_type": "markdown",
      "metadata": {
        "id": "K2x9GDjmhksW",
        "colab_type": "text"
      },
      "source": [
        "### Optimizer\n",
        "\n",
        "Here we build the optimizer. Normal RNNs have have issues gradients exploding and disappearing. LSTMs fix the disappearance problem, but the gradients can still grow without bound. To fix this, we can clip the gradients above some threshold. That is, if a gradient is larger than that threshold, we set it to the threshold. This will ensure the gradients never grow overly large. Then we use an AdamOptimizer for the learning step."
      ]
    },
    {
      "cell_type": "code",
      "metadata": {
        "id": "OBdL66xWhksW",
        "colab_type": "code",
        "colab": {}
      },
      "source": [
        "def build_optimizer(loss, learning_rate, grad_clip):\n",
        "    ''' Build optmizer for training, using gradient clipping.\n",
        "    \n",
        "        Arguments:\n",
        "        loss: Network loss\n",
        "        learning_rate: Learning rate for optimizer\n",
        "    \n",
        "    '''\n",
        "    \n",
        "    # Optimizer for training, using gradient clipping to control exploding gradients\n",
        "    tvars = tf.trainable_variables()\n",
        "    grads, _ = tf.clip_by_global_norm(tf.gradients(loss, tvars), grad_clip)\n",
        "    train_op = tf.train.AdamOptimizer(learning_rate)\n",
        "    optimizer = train_op.apply_gradients(zip(grads, tvars))\n",
        "    \n",
        "    return optimizer"
      ],
      "execution_count": null,
      "outputs": []
    },
    {
      "cell_type": "markdown",
      "metadata": {
        "id": "Cd0RdmXEhksZ",
        "colab_type": "text"
      },
      "source": [
        "### Build the network\n",
        "\n",
        "Now we can put all the pieces together and build a class for the network. To actually run data through the LSTM cells, we will use [`tf.nn.dynamic_rnn`](https://www.tensorflow.org/versions/r1.0/api_docs/python/tf/nn/dynamic_rnn). This function will pass the hidden and cell states across LSTM cells appropriately for us. It returns the outputs for each LSTM cell at each step for each sequence in the mini-batch. It also gives us the final LSTM state. We want to save this state as `final_state` so we can pass it to the first LSTM cell in the the next mini-batch run. For `tf.nn.dynamic_rnn`, we pass in the cell and initial state we get from `build_lstm`, as well as our input sequences. Also, we need to one-hot encode the inputs before going into the RNN. \n",
        "\n",
        "> **Exercise:** Use the functions you've implemented previously and `tf.nn.dynamic_rnn` to build the network."
      ]
    },
    {
      "cell_type": "code",
      "metadata": {
        "id": "CzM8udTchksZ",
        "colab_type": "code",
        "colab": {}
      },
      "source": [
        "class CharRNN:\n",
        "    \n",
        "    def __init__(self, num_classes, batch_size=64, num_steps=50, \n",
        "                       lstm_size=128, num_layers=2, learning_rate=0.001, \n",
        "                       grad_clip=5, sampling=False):\n",
        "    \n",
        "        # When we're using this network for sampling later, we'll be passing in\n",
        "        # one character at a time, so providing an option for that\n",
        "        if sampling == True:\n",
        "            batch_size, num_steps = 1, 1\n",
        "        else:\n",
        "            batch_size, num_steps = batch_size, num_steps\n",
        "\n",
        "        tf.reset_default_graph()\n",
        "        \n",
        "        # Build the input placeholder tensors\n",
        "        self.inputs, self.targets, self.keep_prob = build_inputs(batch_size, num_steps)\n",
        "\n",
        "        # Build the LSTM cell\n",
        "        cell, self.initial_state = build_lstm(lstm_size, num_layers, batch_size, self.keep_prob)\n",
        "\n",
        "        ### Run the data through the RNN layers\n",
        "        # First, one-hot encode the input tokens\n",
        "        x_one_hot = tf.one_hot(self.inputs, num_classes)\n",
        "        \n",
        "        # Run each sequence step through the RNN with tf.nn.dynamic_rnn \n",
        "        outputs, state = tf.nn.dynamic_rnn(cell, x_one_hot, initial_state=self.initial_state)\n",
        "        self.final_state = state\n",
        "        \n",
        "        # Get softmax predictions and logits\n",
        "        self.prediction, self.logits = build_output(outputs, lstm_size, num_classes)\n",
        "        \n",
        "        # Loss and optimizer (with gradient clipping)\n",
        "        self.loss = build_loss(self.logits, self.targets, lstm_size, num_classes)\n",
        "        self.optimizer = build_optimizer(self.loss, learning_rate, grad_clip)"
      ],
      "execution_count": null,
      "outputs": []
    },
    {
      "cell_type": "markdown",
      "metadata": {
        "id": "5NdvUpryhksb",
        "colab_type": "text"
      },
      "source": [
        "## Hyperparameters\n",
        "\n",
        "Here are the hyperparameters for the network.\n",
        "\n",
        "* `batch_size` - Number of sequences running through the network in one pass.\n",
        "* `num_steps` - Number of characters in the sequence the network is trained on. Larger is better typically, the network will learn more long range dependencies. But it takes longer to train. 100 is typically a good number here.\n",
        "* `lstm_size` - The number of units in the hidden layers.\n",
        "* `num_layers` - Number of hidden LSTM layers to use\n",
        "* `learning_rate` - Learning rate for training\n",
        "* `keep_prob` - The dropout keep probability when training. If you're network is overfitting, try decreasing this.\n",
        "\n",
        "Here's some good advice from Andrej Karpathy on training the network. I'm going to copy it in here for your benefit, but also link to [where it originally came from](https://github.com/karpathy/char-rnn#tips-and-tricks).\n",
        "\n",
        "> ## Tips and Tricks\n",
        "\n",
        ">### Monitoring Validation Loss vs. Training Loss\n",
        ">If you're somewhat new to Machine Learning or Neural Networks it can take a bit of expertise to get good models. The most important quantity to keep track of is the difference between your training loss (printed during training) and the validation loss (printed once in a while when the RNN is run on the validation data (by default every 1000 iterations)). In particular:\n",
        "\n",
        "> - If your training loss is much lower than validation loss then this means the network might be **overfitting**. Solutions to this are to decrease your network size, or to increase dropout. For example you could try dropout of 0.5 and so on.\n",
        "> - If your training/validation loss are about equal then your model is **underfitting**. Increase the size of your model (either number of layers or the raw number of neurons per layer)\n",
        "\n",
        "> ### Approximate number of parameters\n",
        "\n",
        "> The two most important parameters that control the model are `lstm_size` and `num_layers`. I would advise that you always use `num_layers` of either 2/3. The `lstm_size` can be adjusted based on how much data you have. The two important quantities to keep track of here are:\n",
        "\n",
        "> - The number of parameters in your model. This is printed when you start training.\n",
        "> - The size of your dataset. 1MB file is approximately 1 million characters.\n",
        "\n",
        ">These two should be about the same order of magnitude. It's a little tricky to tell. Here are some examples:\n",
        "\n",
        "> - I have a 100MB dataset and I'm using the default parameter settings (which currently print 150K parameters). My data size is significantly larger (100 mil >> 0.15 mil), so I expect to heavily underfit. I am thinking I can comfortably afford to make `lstm_size` larger.\n",
        "> - I have a 10MB dataset and running a 10 million parameter model. I'm slightly nervous and I'm carefully monitoring my validation loss. If it's larger than my training loss then I may want to try to increase dropout a bit and see if that helps the validation loss.\n",
        "\n",
        "> ### Best models strategy\n",
        "\n",
        ">The winning strategy to obtaining very good models (if you have the compute time) is to always err on making the network larger (as large as you're willing to wait for it to compute) and then try different dropout values (between 0,1). Whatever model has the best validation performance (the loss, written in the checkpoint filename, low is good) is the one you should use in the end.\n",
        "\n",
        ">It is very common in deep learning to run many different models with many different hyperparameter settings, and in the end take whatever checkpoint gave the best validation performance.\n",
        "\n",
        ">By the way, the size of your training and validation splits are also parameters. Make sure you have a decent amount of data in your validation set or otherwise the validation performance will be noisy and not very informative."
      ]
    },
    {
      "cell_type": "code",
      "metadata": {
        "id": "B8fODNpzhksb",
        "colab_type": "code",
        "colab": {}
      },
      "source": [
        "batch_size = 100         # Sequences per batch\n",
        "num_steps = 50          # Number of sequence steps per batch\n",
        "lstm_size = 128        # Size of hidden layers in LSTMs\n",
        "num_layers = 2          # Number of LSTM layers\n",
        "learning_rate = 0.01    # Learning rate\n",
        "keep_prob = 0.5         # Dropout keep probability"
      ],
      "execution_count": null,
      "outputs": []
    },
    {
      "cell_type": "markdown",
      "metadata": {
        "id": "OR1NJwOZhksf",
        "colab_type": "text"
      },
      "source": [
        "## Time for training\n",
        "\n",
        "This is typical training code, passing inputs and targets into the network, then running the optimizer. Here we also get back the final LSTM state for the mini-batch. Then, we pass that state back into the network so the next batch can continue the state from the previous batch. And every so often (set by `save_every_n`) I save a checkpoint.\n",
        "\n",
        "Here I'm saving checkpoints with the format\n",
        "\n",
        "`i{iteration number}_l{# hidden layer units}.ckpt`\n",
        "\n",
        "> **Exercise:** Set the hyperparameters above to train the network. Watch the training loss, it should be consistently dropping. Also, I highly advise running this on a GPU."
      ]
    },
    {
      "cell_type": "code",
      "metadata": {
        "scrolled": true,
        "id": "6f0G7EB-hksf",
        "colab_type": "code",
        "colab": {
          "base_uri": "https://localhost:8080/",
          "height": 1000
        },
        "outputId": "d106695d-491e-4510-f302-ebcbcf425546"
      },
      "source": [
        "epochs = 20\n",
        "# Print losses every N interations\n",
        "print_every_n = 50\n",
        "\n",
        "# Save every N iterations\n",
        "save_every_n = 200\n",
        "\n",
        "model = CharRNN(len(vocab), batch_size=batch_size, num_steps=num_steps,\n",
        "                lstm_size=lstm_size, num_layers=num_layers, \n",
        "                learning_rate=learning_rate)\n",
        "\n",
        "saver = tf.train.Saver(max_to_keep=100)\n",
        "with tf.Session() as sess:\n",
        "    sess.run(tf.global_variables_initializer())\n",
        "    \n",
        "    # Use the line below to load a checkpoint and resume training\n",
        "    #saver.restore(sess, 'checkpoints/______.ckpt')\n",
        "    counter = 0\n",
        "    for e in range(epochs):\n",
        "        # Train network\n",
        "        new_state = sess.run(model.initial_state)\n",
        "        loss = 0\n",
        "        for x, y in get_batches(encoded, batch_size, num_steps):\n",
        "            counter += 1\n",
        "            start = time.time()\n",
        "            feed = {model.inputs: x,\n",
        "                    model.targets: y,\n",
        "                    model.keep_prob: keep_prob,\n",
        "                    model.initial_state: new_state}\n",
        "            batch_loss, new_state, _ = sess.run([model.loss, \n",
        "                                                 model.final_state, \n",
        "                                                 model.optimizer], \n",
        "                                                 feed_dict=feed)\n",
        "            if (counter % print_every_n == 0):\n",
        "                end = time.time()\n",
        "                print('Epoch: {}/{}... '.format(e+1, epochs),\n",
        "                      'Training Step: {}... '.format(counter),\n",
        "                      'Training loss: {:.4f}... '.format(batch_loss),\n",
        "                      '{:.4f} sec/batch'.format((end-start)))\n",
        "        \n",
        "            if (counter % save_every_n == 0):\n",
        "                saver.save(sess, \"checkpoints/i{}_l{}.ckpt\".format(counter, lstm_size))\n",
        "    \n",
        "    saver.save(sess, \"checkpoints/i{}_l{}.ckpt\".format(counter, lstm_size))"
      ],
      "execution_count": null,
      "outputs": [
        {
          "output_type": "stream",
          "text": [
            "WARNING:tensorflow:\n",
            "The TensorFlow contrib module will not be included in TensorFlow 2.0.\n",
            "For more information, please see:\n",
            "  * https://github.com/tensorflow/community/blob/master/rfcs/20180907-contrib-sunset.md\n",
            "  * https://github.com/tensorflow/addons\n",
            "  * https://github.com/tensorflow/io (for I/O related ops)\n",
            "If you depend on functionality not listed there, please file an issue.\n",
            "\n",
            "WARNING:tensorflow:From <ipython-input-10-ba46bafa8df6>:15: BasicLSTMCell.__init__ (from tensorflow.python.ops.rnn_cell_impl) is deprecated and will be removed in a future version.\n",
            "Instructions for updating:\n",
            "This class is equivalent as tf.keras.layers.LSTMCell, and will be replaced by that in Tensorflow 2.0.\n",
            "WARNING:tensorflow:From <ipython-input-10-ba46bafa8df6>:23: MultiRNNCell.__init__ (from tensorflow.python.ops.rnn_cell_impl) is deprecated and will be removed in a future version.\n",
            "Instructions for updating:\n",
            "This class is equivalent as tf.keras.layers.StackedRNNCells, and will be replaced by that in Tensorflow 2.0.\n",
            "WARNING:tensorflow:From <ipython-input-14-982507844378>:27: dynamic_rnn (from tensorflow.python.ops.rnn) is deprecated and will be removed in a future version.\n",
            "Instructions for updating:\n",
            "Please use `keras.layers.RNN(cell)`, which is equivalent to this API\n",
            "WARNING:tensorflow:From /tensorflow-1.15.2/python3.6/tensorflow_core/python/ops/rnn_cell_impl.py:735: Layer.add_variable (from tensorflow.python.keras.engine.base_layer) is deprecated and will be removed in a future version.\n",
            "Instructions for updating:\n",
            "Please use `layer.add_weight` method instead.\n",
            "WARNING:tensorflow:From /tensorflow-1.15.2/python3.6/tensorflow_core/python/ops/rnn_cell_impl.py:739: calling Zeros.__init__ (from tensorflow.python.ops.init_ops) with dtype is deprecated and will be removed in a future version.\n",
            "Instructions for updating:\n",
            "Call initializer instance with the dtype argument instead of passing it to the constructor\n",
            "WARNING:tensorflow:From <ipython-input-12-0eef9f2845e6>:18: softmax_cross_entropy_with_logits (from tensorflow.python.ops.nn_ops) is deprecated and will be removed in a future version.\n",
            "Instructions for updating:\n",
            "\n",
            "Future major versions of TensorFlow will allow gradients to flow\n",
            "into the labels input on backprop by default.\n",
            "\n",
            "See `tf.nn.softmax_cross_entropy_with_logits_v2`.\n",
            "\n",
            "WARNING:tensorflow:From /tensorflow-1.15.2/python3.6/tensorflow_core/python/ops/clip_ops.py:301: where (from tensorflow.python.ops.array_ops) is deprecated and will be removed in a future version.\n",
            "Instructions for updating:\n",
            "Use tf.where in 2.0, which has the same broadcast rule as np.where\n",
            "Epoch: 1/20...  Training Step: 50...  Training loss: 2.7401...  0.0632 sec/batch\n",
            "Epoch: 1/20...  Training Step: 100...  Training loss: 2.3910...  0.0613 sec/batch\n",
            "Epoch: 1/20...  Training Step: 150...  Training loss: 2.2066...  0.0582 sec/batch\n",
            "Epoch: 1/20...  Training Step: 200...  Training loss: 2.1651...  0.0551 sec/batch\n",
            "Epoch: 1/20...  Training Step: 250...  Training loss: 2.0613...  0.0592 sec/batch\n",
            "Epoch: 1/20...  Training Step: 300...  Training loss: 1.9486...  0.0673 sec/batch\n",
            "Epoch: 1/20...  Training Step: 350...  Training loss: 1.9285...  0.0584 sec/batch\n",
            "Epoch: 2/20...  Training Step: 400...  Training loss: 1.9087...  0.0580 sec/batch\n",
            "Epoch: 2/20...  Training Step: 450...  Training loss: 1.8629...  0.0570 sec/batch\n",
            "Epoch: 2/20...  Training Step: 500...  Training loss: 1.9059...  0.0586 sec/batch\n",
            "Epoch: 2/20...  Training Step: 550...  Training loss: 1.7924...  0.0737 sec/batch\n",
            "Epoch: 2/20...  Training Step: 600...  Training loss: 1.7353...  0.0618 sec/batch\n",
            "Epoch: 2/20...  Training Step: 650...  Training loss: 1.7201...  0.0679 sec/batch\n",
            "Epoch: 2/20...  Training Step: 700...  Training loss: 1.7190...  0.0616 sec/batch\n",
            "Epoch: 2/20...  Training Step: 750...  Training loss: 1.7643...  0.0627 sec/batch\n",
            "Epoch: 3/20...  Training Step: 800...  Training loss: 1.6895...  0.0582 sec/batch\n",
            "Epoch: 3/20...  Training Step: 850...  Training loss: 1.7184...  0.0694 sec/batch\n",
            "Epoch: 3/20...  Training Step: 900...  Training loss: 1.6800...  0.0592 sec/batch\n",
            "Epoch: 3/20...  Training Step: 950...  Training loss: 1.7173...  0.0630 sec/batch\n",
            "Epoch: 3/20...  Training Step: 1000...  Training loss: 1.6937...  0.0664 sec/batch\n",
            "Epoch: 3/20...  Training Step: 1050...  Training loss: 1.6658...  0.0586 sec/batch\n",
            "Epoch: 3/20...  Training Step: 1100...  Training loss: 1.6314...  0.0622 sec/batch\n",
            "Epoch: 3/20...  Training Step: 1150...  Training loss: 1.6628...  0.0575 sec/batch\n",
            "Epoch: 4/20...  Training Step: 1200...  Training loss: 1.6803...  0.0622 sec/batch\n",
            "Epoch: 4/20...  Training Step: 1250...  Training loss: 1.6129...  0.0667 sec/batch\n",
            "Epoch: 4/20...  Training Step: 1300...  Training loss: 1.6013...  0.0581 sec/batch\n",
            "Epoch: 4/20...  Training Step: 1350...  Training loss: 1.6751...  0.0584 sec/batch\n",
            "Epoch: 4/20...  Training Step: 1400...  Training loss: 1.5904...  0.0581 sec/batch\n",
            "Epoch: 4/20...  Training Step: 1450...  Training loss: 1.6422...  0.0611 sec/batch\n",
            "Epoch: 4/20...  Training Step: 1500...  Training loss: 1.6309...  0.0586 sec/batch\n",
            "Epoch: 4/20...  Training Step: 1550...  Training loss: 1.6250...  0.0595 sec/batch\n",
            "Epoch: 5/20...  Training Step: 1600...  Training loss: 1.6143...  0.0586 sec/batch\n",
            "Epoch: 5/20...  Training Step: 1650...  Training loss: 1.6503...  0.0586 sec/batch\n",
            "Epoch: 5/20...  Training Step: 1700...  Training loss: 1.6280...  0.0574 sec/batch\n",
            "Epoch: 5/20...  Training Step: 1750...  Training loss: 1.6124...  0.0597 sec/batch\n",
            "Epoch: 5/20...  Training Step: 1800...  Training loss: 1.6038...  0.0729 sec/batch\n",
            "Epoch: 5/20...  Training Step: 1850...  Training loss: 1.5853...  0.0569 sec/batch\n",
            "Epoch: 5/20...  Training Step: 1900...  Training loss: 1.5964...  0.0658 sec/batch\n",
            "Epoch: 5/20...  Training Step: 1950...  Training loss: 1.5762...  0.0575 sec/batch\n",
            "Epoch: 6/20...  Training Step: 2000...  Training loss: 1.5287...  0.0587 sec/batch\n",
            "Epoch: 6/20...  Training Step: 2050...  Training loss: 1.6112...  0.0580 sec/batch\n",
            "Epoch: 6/20...  Training Step: 2100...  Training loss: 1.6109...  0.0616 sec/batch\n",
            "Epoch: 6/20...  Training Step: 2150...  Training loss: 1.5872...  0.0571 sec/batch\n",
            "Epoch: 6/20...  Training Step: 2200...  Training loss: 1.5513...  0.0581 sec/batch\n",
            "Epoch: 6/20...  Training Step: 2250...  Training loss: 1.5611...  0.0698 sec/batch\n",
            "Epoch: 6/20...  Training Step: 2300...  Training loss: 1.5954...  0.0562 sec/batch\n",
            "Epoch: 6/20...  Training Step: 2350...  Training loss: 1.5825...  0.0594 sec/batch\n",
            "Epoch: 7/20...  Training Step: 2400...  Training loss: 1.5297...  0.0582 sec/batch\n",
            "Epoch: 7/20...  Training Step: 2450...  Training loss: 1.5594...  0.0577 sec/batch\n",
            "Epoch: 7/20...  Training Step: 2500...  Training loss: 1.5844...  0.0568 sec/batch\n",
            "Epoch: 7/20...  Training Step: 2550...  Training loss: 1.5541...  0.0642 sec/batch\n",
            "Epoch: 7/20...  Training Step: 2600...  Training loss: 1.5548...  0.0569 sec/batch\n",
            "Epoch: 7/20...  Training Step: 2650...  Training loss: 1.5129...  0.0601 sec/batch\n",
            "Epoch: 7/20...  Training Step: 2700...  Training loss: 1.5633...  0.0585 sec/batch\n",
            "Epoch: 7/20...  Training Step: 2750...  Training loss: 1.5753...  0.0570 sec/batch\n",
            "Epoch: 8/20...  Training Step: 2800...  Training loss: 1.5378...  0.0591 sec/batch\n",
            "Epoch: 8/20...  Training Step: 2850...  Training loss: 1.6268...  0.0668 sec/batch\n",
            "Epoch: 8/20...  Training Step: 2900...  Training loss: 1.5321...  0.0588 sec/batch\n",
            "Epoch: 8/20...  Training Step: 2950...  Training loss: 1.5014...  0.0590 sec/batch\n",
            "Epoch: 8/20...  Training Step: 3000...  Training loss: 1.5631...  0.0563 sec/batch\n",
            "Epoch: 8/20...  Training Step: 3050...  Training loss: 1.5324...  0.0582 sec/batch\n",
            "Epoch: 8/20...  Training Step: 3100...  Training loss: 1.5170...  0.0591 sec/batch\n",
            "Epoch: 8/20...  Training Step: 3150...  Training loss: 1.4907...  0.0592 sec/batch\n",
            "Epoch: 9/20...  Training Step: 3200...  Training loss: 1.5065...  0.0614 sec/batch\n",
            "Epoch: 9/20...  Training Step: 3250...  Training loss: 1.5216...  0.0644 sec/batch\n",
            "Epoch: 9/20...  Training Step: 3300...  Training loss: 1.5165...  0.0605 sec/batch\n",
            "Epoch: 9/20...  Training Step: 3350...  Training loss: 1.5273...  0.0585 sec/batch\n",
            "Epoch: 9/20...  Training Step: 3400...  Training loss: 1.5766...  0.0568 sec/batch\n",
            "Epoch: 9/20...  Training Step: 3450...  Training loss: 1.5468...  0.0588 sec/batch\n",
            "Epoch: 9/20...  Training Step: 3500...  Training loss: 1.5126...  0.0580 sec/batch\n",
            "Epoch: 9/20...  Training Step: 3550...  Training loss: 1.5248...  0.0606 sec/batch\n",
            "Epoch: 10/20...  Training Step: 3600...  Training loss: 1.5298...  0.0652 sec/batch\n",
            "Epoch: 10/20...  Training Step: 3650...  Training loss: 1.6292...  0.0583 sec/batch\n",
            "Epoch: 10/20...  Training Step: 3700...  Training loss: 1.4990...  0.0622 sec/batch\n",
            "Epoch: 10/20...  Training Step: 3750...  Training loss: 1.4831...  0.0582 sec/batch\n",
            "Epoch: 10/20...  Training Step: 3800...  Training loss: 1.5056...  0.0584 sec/batch\n",
            "Epoch: 10/20...  Training Step: 3850...  Training loss: 1.4768...  0.0581 sec/batch\n",
            "Epoch: 10/20...  Training Step: 3900...  Training loss: 1.5232...  0.0592 sec/batch\n",
            "Epoch: 10/20...  Training Step: 3950...  Training loss: 1.5123...  0.0586 sec/batch\n",
            "Epoch: 11/20...  Training Step: 4000...  Training loss: 1.5368...  0.0582 sec/batch\n",
            "Epoch: 11/20...  Training Step: 4050...  Training loss: 1.4964...  0.0593 sec/batch\n",
            "Epoch: 11/20...  Training Step: 4100...  Training loss: 1.4788...  0.0576 sec/batch\n",
            "Epoch: 11/20...  Training Step: 4150...  Training loss: 1.4946...  0.0585 sec/batch\n",
            "Epoch: 11/20...  Training Step: 4200...  Training loss: 1.4848...  0.0592 sec/batch\n",
            "Epoch: 11/20...  Training Step: 4250...  Training loss: 1.5674...  0.0637 sec/batch\n",
            "Epoch: 11/20...  Training Step: 4300...  Training loss: 1.5007...  0.0588 sec/batch\n",
            "Epoch: 11/20...  Training Step: 4350...  Training loss: 1.4986...  0.0597 sec/batch\n",
            "Epoch: 12/20...  Training Step: 4400...  Training loss: 1.4722...  0.0614 sec/batch\n",
            "Epoch: 12/20...  Training Step: 4450...  Training loss: 1.5247...  0.0618 sec/batch\n",
            "Epoch: 12/20...  Training Step: 4500...  Training loss: 1.5241...  0.0586 sec/batch\n",
            "Epoch: 12/20...  Training Step: 4550...  Training loss: 1.5064...  0.0572 sec/batch\n",
            "Epoch: 12/20...  Training Step: 4600...  Training loss: 1.4813...  0.0591 sec/batch\n",
            "Epoch: 12/20...  Training Step: 4650...  Training loss: 1.5016...  0.0591 sec/batch\n",
            "Epoch: 12/20...  Training Step: 4700...  Training loss: 1.5144...  0.0576 sec/batch\n",
            "Epoch: 12/20...  Training Step: 4750...  Training loss: 1.5466...  0.0586 sec/batch\n",
            "Epoch: 13/20...  Training Step: 4800...  Training loss: 1.5261...  0.0590 sec/batch\n",
            "Epoch: 13/20...  Training Step: 4850...  Training loss: 1.4616...  0.0578 sec/batch\n",
            "Epoch: 13/20...  Training Step: 4900...  Training loss: 1.4864...  0.0585 sec/batch\n",
            "Epoch: 13/20...  Training Step: 4950...  Training loss: 1.4892...  0.0574 sec/batch\n",
            "Epoch: 13/20...  Training Step: 5000...  Training loss: 1.5015...  0.0655 sec/batch\n",
            "Epoch: 13/20...  Training Step: 5050...  Training loss: 1.4642...  0.0636 sec/batch\n",
            "Epoch: 13/20...  Training Step: 5100...  Training loss: 1.4494...  0.0596 sec/batch\n",
            "Epoch: 13/20...  Training Step: 5150...  Training loss: 1.4721...  0.0570 sec/batch\n",
            "Epoch: 14/20...  Training Step: 5200...  Training loss: 1.5138...  0.0575 sec/batch\n",
            "Epoch: 14/20...  Training Step: 5250...  Training loss: 1.5060...  0.0640 sec/batch\n",
            "Epoch: 14/20...  Training Step: 5300...  Training loss: 1.4955...  0.0579 sec/batch\n",
            "Epoch: 14/20...  Training Step: 5350...  Training loss: 1.4977...  0.0593 sec/batch\n",
            "Epoch: 14/20...  Training Step: 5400...  Training loss: 1.5134...  0.0566 sec/batch\n",
            "Epoch: 14/20...  Training Step: 5450...  Training loss: 1.4814...  0.0603 sec/batch\n",
            "Epoch: 14/20...  Training Step: 5500...  Training loss: 1.4837...  0.0588 sec/batch\n",
            "Epoch: 14/20...  Training Step: 5550...  Training loss: 1.4940...  0.0606 sec/batch\n",
            "Epoch: 15/20...  Training Step: 5600...  Training loss: 1.4683...  0.0629 sec/batch\n",
            "Epoch: 15/20...  Training Step: 5650...  Training loss: 1.4346...  0.0586 sec/batch\n",
            "Epoch: 15/20...  Training Step: 5700...  Training loss: 1.4975...  0.0594 sec/batch\n",
            "Epoch: 15/20...  Training Step: 5750...  Training loss: 1.5226...  0.0597 sec/batch\n",
            "Epoch: 15/20...  Training Step: 5800...  Training loss: 1.5726...  0.0612 sec/batch\n",
            "Epoch: 15/20...  Training Step: 5850...  Training loss: 1.4756...  0.0571 sec/batch\n",
            "Epoch: 15/20...  Training Step: 5900...  Training loss: 1.5252...  0.0559 sec/batch\n",
            "Epoch: 15/20...  Training Step: 5950...  Training loss: 1.5186...  0.0573 sec/batch\n",
            "Epoch: 16/20...  Training Step: 6000...  Training loss: 1.4180...  0.0596 sec/batch\n",
            "Epoch: 16/20...  Training Step: 6050...  Training loss: 1.4863...  0.0610 sec/batch\n",
            "Epoch: 16/20...  Training Step: 6100...  Training loss: 1.4693...  0.0574 sec/batch\n",
            "Epoch: 16/20...  Training Step: 6150...  Training loss: 1.5200...  0.0575 sec/batch\n",
            "Epoch: 16/20...  Training Step: 6200...  Training loss: 1.5382...  0.0587 sec/batch\n",
            "Epoch: 16/20...  Training Step: 6250...  Training loss: 1.5153...  0.0569 sec/batch\n",
            "Epoch: 16/20...  Training Step: 6300...  Training loss: 1.4698...  0.0582 sec/batch\n",
            "Epoch: 16/20...  Training Step: 6350...  Training loss: 1.4458...  0.0621 sec/batch\n",
            "Epoch: 17/20...  Training Step: 6400...  Training loss: 1.4480...  0.0582 sec/batch\n",
            "Epoch: 17/20...  Training Step: 6450...  Training loss: 1.4751...  0.0613 sec/batch\n",
            "Epoch: 17/20...  Training Step: 6500...  Training loss: 1.4346...  0.0655 sec/batch\n",
            "Epoch: 17/20...  Training Step: 6550...  Training loss: 1.4804...  0.0575 sec/batch\n",
            "Epoch: 17/20...  Training Step: 6600...  Training loss: 1.4952...  0.0589 sec/batch\n",
            "Epoch: 17/20...  Training Step: 6650...  Training loss: 1.4976...  0.0599 sec/batch\n",
            "Epoch: 17/20...  Training Step: 6700...  Training loss: 1.4826...  0.0579 sec/batch\n",
            "Epoch: 18/20...  Training Step: 6750...  Training loss: 1.5436...  0.0621 sec/batch\n",
            "Epoch: 18/20...  Training Step: 6800...  Training loss: 1.4694...  0.0585 sec/batch\n",
            "Epoch: 18/20...  Training Step: 6850...  Training loss: 1.5207...  0.0556 sec/batch\n",
            "Epoch: 18/20...  Training Step: 6900...  Training loss: 1.4840...  0.0611 sec/batch\n",
            "Epoch: 18/20...  Training Step: 6950...  Training loss: 1.4713...  0.0588 sec/batch\n",
            "Epoch: 18/20...  Training Step: 7000...  Training loss: 1.4665...  0.0586 sec/batch\n",
            "Epoch: 18/20...  Training Step: 7050...  Training loss: 1.4436...  0.0583 sec/batch\n",
            "Epoch: 18/20...  Training Step: 7100...  Training loss: 1.5219...  0.0580 sec/batch\n",
            "Epoch: 19/20...  Training Step: 7150...  Training loss: 1.4158...  0.0632 sec/batch\n",
            "Epoch: 19/20...  Training Step: 7200...  Training loss: 1.5047...  0.0568 sec/batch\n",
            "Epoch: 19/20...  Training Step: 7250...  Training loss: 1.4624...  0.0585 sec/batch\n",
            "Epoch: 19/20...  Training Step: 7300...  Training loss: 1.4766...  0.0576 sec/batch\n",
            "Epoch: 19/20...  Training Step: 7350...  Training loss: 1.5071...  0.0582 sec/batch\n",
            "Epoch: 19/20...  Training Step: 7400...  Training loss: 1.4717...  0.0592 sec/batch\n",
            "Epoch: 19/20...  Training Step: 7450...  Training loss: 1.4449...  0.0568 sec/batch\n",
            "Epoch: 19/20...  Training Step: 7500...  Training loss: 1.4748...  0.0587 sec/batch\n",
            "Epoch: 20/20...  Training Step: 7550...  Training loss: 1.4450...  0.0578 sec/batch\n",
            "Epoch: 20/20...  Training Step: 7600...  Training loss: 1.4686...  0.0600 sec/batch\n",
            "Epoch: 20/20...  Training Step: 7650...  Training loss: 1.4348...  0.0585 sec/batch\n",
            "Epoch: 20/20...  Training Step: 7700...  Training loss: 1.4480...  0.0580 sec/batch\n",
            "Epoch: 20/20...  Training Step: 7750...  Training loss: 1.4386...  0.0575 sec/batch\n",
            "Epoch: 20/20...  Training Step: 7800...  Training loss: 1.4892...  0.0594 sec/batch\n",
            "Epoch: 20/20...  Training Step: 7850...  Training loss: 1.4638...  0.0592 sec/batch\n",
            "Epoch: 20/20...  Training Step: 7900...  Training loss: 1.4690...  0.0580 sec/batch\n"
          ],
          "name": "stdout"
        }
      ]
    },
    {
      "cell_type": "markdown",
      "metadata": {
        "id": "Q06g0Ho_hksh",
        "colab_type": "text"
      },
      "source": [
        "#### Saved checkpoints\n",
        "\n",
        "Read up on saving and loading checkpoints here: https://www.tensorflow.org/programmers_guide/variables"
      ]
    },
    {
      "cell_type": "code",
      "metadata": {
        "id": "QSWoaa_chksh",
        "colab_type": "code",
        "colab": {
          "base_uri": "https://localhost:8080/",
          "height": 706
        },
        "outputId": "6fdf6d33-2455-4856-e3b4-a03dbddd82c6"
      },
      "source": [
        "tf.train.get_checkpoint_state('checkpoints')"
      ],
      "execution_count": null,
      "outputs": [
        {
          "output_type": "execute_result",
          "data": {
            "text/plain": [
              "model_checkpoint_path: \"checkpoints/i7940_l128.ckpt\"\n",
              "all_model_checkpoint_paths: \"checkpoints/i200_l128.ckpt\"\n",
              "all_model_checkpoint_paths: \"checkpoints/i400_l128.ckpt\"\n",
              "all_model_checkpoint_paths: \"checkpoints/i600_l128.ckpt\"\n",
              "all_model_checkpoint_paths: \"checkpoints/i800_l128.ckpt\"\n",
              "all_model_checkpoint_paths: \"checkpoints/i1000_l128.ckpt\"\n",
              "all_model_checkpoint_paths: \"checkpoints/i1200_l128.ckpt\"\n",
              "all_model_checkpoint_paths: \"checkpoints/i1400_l128.ckpt\"\n",
              "all_model_checkpoint_paths: \"checkpoints/i1600_l128.ckpt\"\n",
              "all_model_checkpoint_paths: \"checkpoints/i1800_l128.ckpt\"\n",
              "all_model_checkpoint_paths: \"checkpoints/i2000_l128.ckpt\"\n",
              "all_model_checkpoint_paths: \"checkpoints/i2200_l128.ckpt\"\n",
              "all_model_checkpoint_paths: \"checkpoints/i2400_l128.ckpt\"\n",
              "all_model_checkpoint_paths: \"checkpoints/i2600_l128.ckpt\"\n",
              "all_model_checkpoint_paths: \"checkpoints/i2800_l128.ckpt\"\n",
              "all_model_checkpoint_paths: \"checkpoints/i3000_l128.ckpt\"\n",
              "all_model_checkpoint_paths: \"checkpoints/i3200_l128.ckpt\"\n",
              "all_model_checkpoint_paths: \"checkpoints/i3400_l128.ckpt\"\n",
              "all_model_checkpoint_paths: \"checkpoints/i3600_l128.ckpt\"\n",
              "all_model_checkpoint_paths: \"checkpoints/i3800_l128.ckpt\"\n",
              "all_model_checkpoint_paths: \"checkpoints/i4000_l128.ckpt\"\n",
              "all_model_checkpoint_paths: \"checkpoints/i4200_l128.ckpt\"\n",
              "all_model_checkpoint_paths: \"checkpoints/i4400_l128.ckpt\"\n",
              "all_model_checkpoint_paths: \"checkpoints/i4600_l128.ckpt\"\n",
              "all_model_checkpoint_paths: \"checkpoints/i4800_l128.ckpt\"\n",
              "all_model_checkpoint_paths: \"checkpoints/i5000_l128.ckpt\"\n",
              "all_model_checkpoint_paths: \"checkpoints/i5200_l128.ckpt\"\n",
              "all_model_checkpoint_paths: \"checkpoints/i5400_l128.ckpt\"\n",
              "all_model_checkpoint_paths: \"checkpoints/i5600_l128.ckpt\"\n",
              "all_model_checkpoint_paths: \"checkpoints/i5800_l128.ckpt\"\n",
              "all_model_checkpoint_paths: \"checkpoints/i6000_l128.ckpt\"\n",
              "all_model_checkpoint_paths: \"checkpoints/i6200_l128.ckpt\"\n",
              "all_model_checkpoint_paths: \"checkpoints/i6400_l128.ckpt\"\n",
              "all_model_checkpoint_paths: \"checkpoints/i6600_l128.ckpt\"\n",
              "all_model_checkpoint_paths: \"checkpoints/i6800_l128.ckpt\"\n",
              "all_model_checkpoint_paths: \"checkpoints/i7000_l128.ckpt\"\n",
              "all_model_checkpoint_paths: \"checkpoints/i7200_l128.ckpt\"\n",
              "all_model_checkpoint_paths: \"checkpoints/i7400_l128.ckpt\"\n",
              "all_model_checkpoint_paths: \"checkpoints/i7600_l128.ckpt\"\n",
              "all_model_checkpoint_paths: \"checkpoints/i7800_l128.ckpt\"\n",
              "all_model_checkpoint_paths: \"checkpoints/i7940_l128.ckpt\""
            ]
          },
          "metadata": {
            "tags": []
          },
          "execution_count": 17
        }
      ]
    },
    {
      "cell_type": "markdown",
      "metadata": {
        "id": "O7hT5lB_hksj",
        "colab_type": "text"
      },
      "source": [
        "## Sampling\n",
        "\n",
        "Now that the network is trained, we'll can use it to generate new text. The idea is that we pass in a character, then the network will predict the next character. We can use the new one, to predict the next one. And we keep doing this to generate all new text. I also included some functionality to prime the network with some text by passing in a string and building up a state from that.\n",
        "\n",
        "The network gives us predictions for each character. To reduce noise and make things a little less random, I'm going to only choose a new character from the top N most likely characters.\n",
        "\n"
      ]
    },
    {
      "cell_type": "code",
      "metadata": {
        "id": "sExCLqwqhksj",
        "colab_type": "code",
        "colab": {}
      },
      "source": [
        "def pick_top_n(preds, vocab_size, top_n=5):\n",
        "    p = np.squeeze(preds)\n",
        "    p[np.argsort(p)[:-top_n]] = 0\n",
        "    p = p / np.sum(p)\n",
        "    c = np.random.choice(vocab_size, 1, p=p)[0]\n",
        "    return c"
      ],
      "execution_count": null,
      "outputs": []
    },
    {
      "cell_type": "code",
      "metadata": {
        "id": "XJ3--Im6hksl",
        "colab_type": "code",
        "colab": {}
      },
      "source": [
        "def sample(checkpoint, n_samples, lstm_size, vocab_size, prime=\"The \"):\n",
        "    samples = [c for c in prime]\n",
        "    model = CharRNN(len(vocab), lstm_size=lstm_size, sampling=True)\n",
        "    saver = tf.train.Saver()\n",
        "    with tf.Session() as sess:\n",
        "        saver.restore(sess, checkpoint)\n",
        "        new_state = sess.run(model.initial_state)\n",
        "        for c in prime:\n",
        "            x = np.zeros((1, 1))\n",
        "            x[0,0] = vocab_to_int[c]\n",
        "            feed = {model.inputs: x,\n",
        "                    model.keep_prob: 1.,\n",
        "                    model.initial_state: new_state}\n",
        "            preds, new_state = sess.run([model.prediction, model.final_state], \n",
        "                                         feed_dict=feed)\n",
        "\n",
        "        c = pick_top_n(preds, len(vocab))\n",
        "        samples.append(int_to_vocab[c])\n",
        "\n",
        "        for i in range(n_samples):\n",
        "            x[0,0] = c\n",
        "            feed = {model.inputs: x,\n",
        "                    model.keep_prob: 1.,\n",
        "                    model.initial_state: new_state}\n",
        "            preds, new_state = sess.run([model.prediction, model.final_state], \n",
        "                                         feed_dict=feed)\n",
        "\n",
        "            c = pick_top_n(preds, len(vocab))\n",
        "            samples.append(int_to_vocab[c])\n",
        "        \n",
        "    return ''.join(samples)"
      ],
      "execution_count": null,
      "outputs": []
    },
    {
      "cell_type": "markdown",
      "metadata": {
        "id": "Q14dIWDqhksn",
        "colab_type": "text"
      },
      "source": [
        "Here, pass in the path to a checkpoint and sample from the network."
      ]
    },
    {
      "cell_type": "code",
      "metadata": {
        "id": "DXrScCZPhksn",
        "colab_type": "code",
        "colab": {
          "base_uri": "https://localhost:8080/",
          "height": 35
        },
        "outputId": "7cf40506-4573-4b00-899c-75f8e7a9ab94"
      },
      "source": [
        "tf.train.latest_checkpoint('checkpoints')"
      ],
      "execution_count": null,
      "outputs": [
        {
          "output_type": "execute_result",
          "data": {
            "application/vnd.google.colaboratory.intrinsic": {
              "type": "string"
            },
            "text/plain": [
              "'checkpoints/i7940_l128.ckpt'"
            ]
          },
          "metadata": {
            "tags": []
          },
          "execution_count": 20
        }
      ]
    },
    {
      "cell_type": "code",
      "metadata": {
        "id": "4TgfQw9Mhksp",
        "colab_type": "code",
        "colab": {
          "base_uri": "https://localhost:8080/",
          "height": 756
        },
        "outputId": "06ad1aea-a585-4105-ba66-390070251246"
      },
      "source": [
        "checkpoint = tf.train.latest_checkpoint('checkpoints')\n",
        "samp = sample(checkpoint, 2000, lstm_size, len(vocab), prime=\"Far\")\n",
        "print(samp)"
      ],
      "execution_count": null,
      "outputs": [
        {
          "output_type": "stream",
          "text": [
            "INFO:tensorflow:Restoring parameters from checkpoints/i7940_l128.ckpt\n",
            "Fars that this\n",
            "was necessantly, but he shall such has she\n",
            "was brings were and that would never tree, while he saw the stopped and some and\n",
            "answer.\n",
            "\n",
            "\"There are the called than, but while he says that the\n",
            "chind to streak, and to say, which he don't conceable too, why are so all there it to the carriage, who will say\n",
            "she soon.\"\n",
            "\n",
            "\"I want how that his almong and had brain with him than it's no\n",
            "creature.... All the mother. I sow,\" he had been sat into the same there of spine of\n",
            "the professon and at out with a more of him, with which he was the true, brought, and showed.\n",
            "\n",
            "\"I'm to come to my and thought to say about a stop of the cough,\" said Varenka's, her atticht to say it the mirntal words\n",
            "as had never says and happy to her so too to ask\n",
            "him all to bried\n",
            "the most simplic, and that the place.\n",
            "\n",
            "And his same children had side. \"I was not all it?\" thought Serbed this the\n",
            "mind, and she had standed of his hand,\n",
            "and he was so him, will sear when he said alone, and shall he depiding and the cold when he was any time with him a came\n",
            "to the course. She would be than seemed to strange, and he\n",
            "was the crack the passion of her\n",
            "attempt of his feeling, taking away all the\n",
            "peasant on his both and\n",
            "the crand of the walk, and a perpression of\n",
            "the work and so she had\n",
            "set on an answer, the man to him\n",
            "him with his husband showed and while the\n",
            "sight with son think of\n",
            "the take of her as he\n",
            "had all the time\n",
            "she desired atteres of his words, and seemed out to take the part watch of same on the treast at the word of the thee hand, that\n",
            "they had\n",
            "all when\n",
            "she had not to care. He was\n",
            "took the tarts with this thought of a stirm, with her and to her that was head than he saw\n",
            "shore and an atticuting on show hardly as the sounds of the samined wheless, and house. After which\n",
            "to be can angroractite.\n",
            "\n",
            "\"It was now. Ten a cort and a sintle. I draw it in\n",
            "him in all he stopping to the serfuls with her. All the meaning and sones to so steme of his happen to the more, but and\n",
            "shall but say and taking it and shate wh\n"
          ],
          "name": "stdout"
        }
      ]
    },
    {
      "cell_type": "code",
      "metadata": {
        "id": "cKkr7kQDhkss",
        "colab_type": "code",
        "colab": {
          "base_uri": "https://localhost:8080/",
          "height": 337
        },
        "outputId": "cc779e47-f062-4683-b8b6-1d279d219acb"
      },
      "source": [
        "checkpoint = 'checkpoints/i200_l512.ckpt'\n",
        "samp = sample(checkpoint, 1000, lstm_size, len(vocab), prime=\"Far\")\n",
        "print(samp)"
      ],
      "execution_count": null,
      "outputs": [
        {
          "output_type": "error",
          "ename": "ValueError",
          "evalue": "ignored",
          "traceback": [
            "\u001b[0;31m---------------------------------------------------------------------------\u001b[0m",
            "\u001b[0;31mValueError\u001b[0m                                Traceback (most recent call last)",
            "\u001b[0;32m<ipython-input-22-a2d1068e69fd>\u001b[0m in \u001b[0;36m<module>\u001b[0;34m()\u001b[0m\n\u001b[1;32m      1\u001b[0m \u001b[0mcheckpoint\u001b[0m \u001b[0;34m=\u001b[0m \u001b[0;34m'checkpoints/i200_l512.ckpt'\u001b[0m\u001b[0;34m\u001b[0m\u001b[0;34m\u001b[0m\u001b[0m\n\u001b[0;32m----> 2\u001b[0;31m \u001b[0msamp\u001b[0m \u001b[0;34m=\u001b[0m \u001b[0msample\u001b[0m\u001b[0;34m(\u001b[0m\u001b[0mcheckpoint\u001b[0m\u001b[0;34m,\u001b[0m \u001b[0;36m1000\u001b[0m\u001b[0;34m,\u001b[0m \u001b[0mlstm_size\u001b[0m\u001b[0;34m,\u001b[0m \u001b[0mlen\u001b[0m\u001b[0;34m(\u001b[0m\u001b[0mvocab\u001b[0m\u001b[0;34m)\u001b[0m\u001b[0;34m,\u001b[0m \u001b[0mprime\u001b[0m\u001b[0;34m=\u001b[0m\u001b[0;34m\"Far\"\u001b[0m\u001b[0;34m)\u001b[0m\u001b[0;34m\u001b[0m\u001b[0;34m\u001b[0m\u001b[0m\n\u001b[0m\u001b[1;32m      3\u001b[0m \u001b[0mprint\u001b[0m\u001b[0;34m(\u001b[0m\u001b[0msamp\u001b[0m\u001b[0;34m)\u001b[0m\u001b[0;34m\u001b[0m\u001b[0;34m\u001b[0m\u001b[0m\n",
            "\u001b[0;32m<ipython-input-19-8693ad72bd2c>\u001b[0m in \u001b[0;36msample\u001b[0;34m(checkpoint, n_samples, lstm_size, vocab_size, prime)\u001b[0m\n\u001b[1;32m      4\u001b[0m     \u001b[0msaver\u001b[0m \u001b[0;34m=\u001b[0m \u001b[0mtf\u001b[0m\u001b[0;34m.\u001b[0m\u001b[0mtrain\u001b[0m\u001b[0;34m.\u001b[0m\u001b[0mSaver\u001b[0m\u001b[0;34m(\u001b[0m\u001b[0;34m)\u001b[0m\u001b[0;34m\u001b[0m\u001b[0;34m\u001b[0m\u001b[0m\n\u001b[1;32m      5\u001b[0m     \u001b[0;32mwith\u001b[0m \u001b[0mtf\u001b[0m\u001b[0;34m.\u001b[0m\u001b[0mSession\u001b[0m\u001b[0;34m(\u001b[0m\u001b[0;34m)\u001b[0m \u001b[0;32mas\u001b[0m \u001b[0msess\u001b[0m\u001b[0;34m:\u001b[0m\u001b[0;34m\u001b[0m\u001b[0;34m\u001b[0m\u001b[0m\n\u001b[0;32m----> 6\u001b[0;31m         \u001b[0msaver\u001b[0m\u001b[0;34m.\u001b[0m\u001b[0mrestore\u001b[0m\u001b[0;34m(\u001b[0m\u001b[0msess\u001b[0m\u001b[0;34m,\u001b[0m \u001b[0mcheckpoint\u001b[0m\u001b[0;34m)\u001b[0m\u001b[0;34m\u001b[0m\u001b[0;34m\u001b[0m\u001b[0m\n\u001b[0m\u001b[1;32m      7\u001b[0m         \u001b[0mnew_state\u001b[0m \u001b[0;34m=\u001b[0m \u001b[0msess\u001b[0m\u001b[0;34m.\u001b[0m\u001b[0mrun\u001b[0m\u001b[0;34m(\u001b[0m\u001b[0mmodel\u001b[0m\u001b[0;34m.\u001b[0m\u001b[0minitial_state\u001b[0m\u001b[0;34m)\u001b[0m\u001b[0;34m\u001b[0m\u001b[0;34m\u001b[0m\u001b[0m\n\u001b[1;32m      8\u001b[0m         \u001b[0;32mfor\u001b[0m \u001b[0mc\u001b[0m \u001b[0;32min\u001b[0m \u001b[0mprime\u001b[0m\u001b[0;34m:\u001b[0m\u001b[0;34m\u001b[0m\u001b[0;34m\u001b[0m\u001b[0m\n",
            "\u001b[0;32m/tensorflow-1.15.2/python3.6/tensorflow_core/python/training/saver.py\u001b[0m in \u001b[0;36mrestore\u001b[0;34m(self, sess, save_path)\u001b[0m\n\u001b[1;32m   1280\u001b[0m     \u001b[0;32mif\u001b[0m \u001b[0;32mnot\u001b[0m \u001b[0mcheckpoint_management\u001b[0m\u001b[0;34m.\u001b[0m\u001b[0mcheckpoint_exists_internal\u001b[0m\u001b[0;34m(\u001b[0m\u001b[0mcheckpoint_prefix\u001b[0m\u001b[0;34m)\u001b[0m\u001b[0;34m:\u001b[0m\u001b[0;34m\u001b[0m\u001b[0;34m\u001b[0m\u001b[0m\n\u001b[1;32m   1281\u001b[0m       raise ValueError(\"The passed save_path is not a valid checkpoint: \" +\n\u001b[0;32m-> 1282\u001b[0;31m                        checkpoint_prefix)\n\u001b[0m\u001b[1;32m   1283\u001b[0m \u001b[0;34m\u001b[0m\u001b[0m\n\u001b[1;32m   1284\u001b[0m     \u001b[0mlogging\u001b[0m\u001b[0;34m.\u001b[0m\u001b[0minfo\u001b[0m\u001b[0;34m(\u001b[0m\u001b[0;34m\"Restoring parameters from %s\"\u001b[0m\u001b[0;34m,\u001b[0m \u001b[0mcheckpoint_prefix\u001b[0m\u001b[0;34m)\u001b[0m\u001b[0;34m\u001b[0m\u001b[0;34m\u001b[0m\u001b[0m\n",
            "\u001b[0;31mValueError\u001b[0m: The passed save_path is not a valid checkpoint: checkpoints/i200_l512.ckpt"
          ]
        }
      ]
    },
    {
      "cell_type": "code",
      "metadata": {
        "id": "Qfr95kMVhksu",
        "colab_type": "code",
        "colab": {}
      },
      "source": [
        "checkpoint = 'checkpoints/i600_l512.ckpt'\n",
        "samp = sample(checkpoint, 1000, lstm_size, len(vocab), prime=\"Far\")\n",
        "print(samp)"
      ],
      "execution_count": null,
      "outputs": []
    },
    {
      "cell_type": "code",
      "metadata": {
        "id": "-GMmtktxhksw",
        "colab_type": "code",
        "colab": {}
      },
      "source": [
        "checkpoint = 'checkpoints/i1200_l512.ckpt'\n",
        "samp = sample(checkpoint, 1000, lstm_size, len(vocab), prime=\"Far\")\n",
        "print(samp)"
      ],
      "execution_count": null,
      "outputs": []
    }
  ]
}